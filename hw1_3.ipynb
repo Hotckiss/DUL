{
 "cells": [
  {
   "cell_type": "code",
   "execution_count": 2,
   "metadata": {},
   "outputs": [],
   "source": [
    "import torch\n",
    "import torch.nn as nn\n",
    "import torch.nn.functional as F\n",
    "import torch.optim as optim\n",
    "from torch.optim import SGD, Adam\n",
    "from torch.utils.data import Dataset, DataLoader\n",
    "from sklearn.model_selection import train_test_split\n",
    "import matplotlib\n",
    "import matplotlib.pyplot as plt\n",
    "import numpy as np\n",
    "import pickle"
   ]
  },
  {
   "cell_type": "code",
   "execution_count": 8,
   "metadata": {},
   "outputs": [],
   "source": [
    "device = torch.device(\"cpu\")"
   ]
  },
  {
   "cell_type": "code",
   "execution_count": 9,
   "metadata": {},
   "outputs": [],
   "source": [
    "def sample_data():\n",
    "    with open('mnist-hw1.pkl', 'rb') as file:\n",
    "        dataset = pickle.load(file)\n",
    "\n",
    "    X_train = dataset['train']\n",
    "    X_test = dataset['test']\n",
    "    return X_train, X_test"
   ]
  },
  {
   "cell_type": "code",
   "execution_count": 98,
   "metadata": {},
   "outputs": [],
   "source": [
    "def plot_loss(loss_train, loss_val):\n",
    "    plt.plot(np.arange(len(loss_train)), loss_train, label='train')\n",
    "    plt.plot(np.arange(0, len(loss_train), len(loss_train) / N), loss_val, label='validate')\n",
    "    plt.legend()\n",
    "    plt.title(\"losses\")\n",
    "    plt.xlabel(\"step\")\n",
    "    plt.ylabel(\"loss\")\n",
    "    plt.show()"
   ]
  },
  {
   "cell_type": "code",
   "execution_count": 10,
   "metadata": {},
   "outputs": [],
   "source": [
    "X_train, X_test = sample_data()\n",
    "X_train, X_val = train_test_split(X_train, test_size=0.125, random_state=42)\n",
    "X_train = X_train.transpose([0, 3, 1, 2])\n",
    "X_val = X_val.transpose([0, 3, 1, 2])\n",
    "X_test = X_test.transpose([0, 3, 1, 2])\n",
    "\n",
    "\n"
   ]
  },
  {
   "cell_type": "code",
   "execution_count": 15,
   "metadata": {},
   "outputs": [],
   "source": [
    "class MaskedConv2d(nn.Conv2d):\n",
    "    def __init__(self, in_channels, out_channels, kernel_size=1, stride=1, padding=0, mask_type='B'):\n",
    "        super().__init__(in_channels, out_channels, kernel_size, stride, padding)        \n",
    "        self.mask = torch.ones_like(self.weight).to(device)\n",
    "        _, _, h, w = self.weight.shape\n",
    "        h, w = h // 2, w // 2\n",
    "        \n",
    "        self.mask[:, :, h, w + (mask_type == 'B'):] = 0\n",
    "        self.mask[:, :, h + 1:] = 0\n",
    "        \n",
    "    def forward(self, input):\n",
    "        self.weight.data *= self.mask\n",
    "        return super(MaskedConv2d, self).forward(input)\n"
   ]
  },
  {
   "cell_type": "code",
   "execution_count": 42,
   "metadata": {},
   "outputs": [],
   "source": [
    "class MaskedResBlock(nn.Module):\n",
    "    def __init__(self, size):\n",
    "        super(MaskedResBlock, self).__init__()\n",
    "        \n",
    "        self.model = nn.Sequential(\n",
    "            nn.ReLU(),\n",
    "            MaskedConv2d(2 * size, size),\n",
    "            nn.BatchNorm2d(size),\n",
    "            nn.ReLU(),\n",
    "            MaskedConv2d(size, size, kernel_size=3, padding=1),\n",
    "            nn.BatchNorm2d(size),\n",
    "            nn.ReLU(),\n",
    "            MaskedConv2d(size, 2 * size),\n",
    "            nn.BatchNorm2d(2 * size)\n",
    "        )\n",
    "\n",
    "    def forward(self, x):\n",
    "        return self.model(x) + x"
   ]
  },
  {
   "cell_type": "code",
   "execution_count": 49,
   "metadata": {},
   "outputs": [],
   "source": [
    "class PixelCNN(nn.Module):\n",
    "    def __init__(self, size):\n",
    "        super(PixelCNN, self).__init__()\n",
    "\n",
    "        arch = [MaskedConv2d(3, 2 * size, kernel_size=7, stride=1, padding=3, mask_type='A')]\n",
    "        \n",
    "        arch += 12 * [MaskedResBlock(size)]\n",
    "        arch += [\n",
    "            nn.ReLU(),\n",
    "            MaskedConv2d(2 * size, 2 * size),\n",
    "            nn.BatchNorm2d(2 * size),\n",
    "            nn.ReLU(),\n",
    "            MaskedConv2d(2 * size, 3 * 4)\n",
    "        ]\n",
    "                 \n",
    "        self.model = nn.Sequential(*arch)\n",
    "\n",
    "    def forward(self, x):\n",
    "        return self.model(x.float()).reshape(x.shape[0], x.shape[1], 4, x.shape[2], x.shape[3]).permute(0, 1, 3, 4, 2)"
   ]
  },
  {
   "cell_type": "code",
   "execution_count": 74,
   "metadata": {},
   "outputs": [],
   "source": [
    "def one_hot_v2(batch,depth):\n",
    "    ones = torch.sparse.torch.eye(depth).to(device)\n",
    "    return ones.index_select(0,batch)"
   ]
  },
  {
   "cell_type": "code",
   "execution_count": 75,
   "metadata": {},
   "outputs": [],
   "source": [
    "def MyNLLLoss(x, y):\n",
    "    y = torch.nn.functional.softmax(y, dim=4).to(device)\n",
    "    \n",
    "    x4 = x[:, :, :, :]\n",
    "    one_hot = torch.zeros((x.shape[0], x.shape[1], x.shape[2], x.shape[3], 4)).float().to(device)\n",
    "    one_hot[:, :, :, :] = one_hot_v2(x4.view(-1).long(),4).view(one_hot.shape)\n",
    "    return -torch.log((y * one_hot).sum(dim=-1)).mean()"
   ]
  },
  {
   "cell_type": "code",
   "execution_count": 92,
   "metadata": {},
   "outputs": [],
   "source": [
    "model = PixelCNN(8)\n",
    "model = model.float()\n",
    "model = model.to(device)\n",
    "\n",
    "optimizer = SGD(model.parameters(), lr=1e-3, momentum=0.9)\n",
    "loss = MyNLLLoss\n",
    "N = 10\n",
    "Nb = 64"
   ]
  },
  {
   "cell_type": "code",
   "execution_count": 93,
   "metadata": {},
   "outputs": [],
   "source": [
    "train_loader = DataLoader(X_train, batch_size=Nb, shuffle=True)\n",
    "val_loader = DataLoader(X_val, batch_size=len(X_val))\n",
    "test_loader = DataLoader(X_test, batch_size=len(X_test))"
   ]
  },
  {
   "cell_type": "code",
   "execution_count": 94,
   "metadata": {},
   "outputs": [],
   "source": [
    "def train():\n",
    "    loss_train, loss_val = [], []\n",
    "            \n",
    "    for _ in range(N):\n",
    "        for batch in train_loader:\n",
    "            batch = batch.to(device)\n",
    "            optimizer.zero_grad()\n",
    "            loss_ = loss(batch, model(batch))\n",
    "            loss_train.append(loss_ / 2)\n",
    "            loss_.backward()\n",
    "            optimizer.step()\n",
    "\n",
    "        with torch.no_grad():\n",
    "            for batch_data in val_loader:\n",
    "                batch = batch.to(device)\n",
    "                loss_ = loss(batch, model(batch))\n",
    "                loss_val.append(loss_ / 2)\n",
    "\n",
    "    with torch.no_grad():\n",
    "        for batch in test_loader:\n",
    "            batch = batch.to(device)\n",
    "            loss_ = loss(batch, model(batch))\n",
    "            print(\"Test loss: \" + str(float(loss_ / 2)))\n",
    "\n",
    "    return loss_train, loss_val\n",
    "\n"
   ]
  },
  {
   "cell_type": "code",
   "execution_count": 95,
   "metadata": {},
   "outputs": [
    {
     "name": "stdout",
     "output_type": "stream",
     "text": [
      "Test loss: 0.13655439019203186\n"
     ]
    }
   ],
   "source": [
    "loss_train, loss_val = train()\n"
   ]
  },
  {
   "cell_type": "code",
   "execution_count": 99,
   "metadata": {},
   "outputs": [
    {
     "data": {
      "image/png": "[encoded data removed]",
      "text/plain": [
       "<Figure size 432x288 with 1 Axes>"
      ]
     },
     "metadata": {
      "needs_background": "light"
     },
     "output_type": "display_data"
    }
   ],
   "source": [
    "plot_loss(loss_train, loss_val)"
   ]
  },
  {
   "cell_type": "code",
   "execution_count": null,
   "metadata": {},
   "outputs": [],
   "source": [
    "#слишком медленно"
   ]
  },
  {
   "cell_type": "code",
   "execution_count": null,
   "metadata": {},
   "outputs": [],
   "source": []
  }
 ],
 "metadata": {
  "kernelspec": {
   "display_name": "Python 3",
   "language": "python",
   "name": "python3"
  },
  "language_info": {
   "codemirror_mode": {
    "name": "ipython",
    "version": 3
   },
   "file_extension": ".py",
   "mimetype": "text/x-python",
   "name": "python",
   "nbconvert_exporter": "python",
   "pygments_lexer": "ipython3",
   "version": "3.7.3"
  }
 },
 "nbformat": 4,
 "nbformat_minor": 2
}
