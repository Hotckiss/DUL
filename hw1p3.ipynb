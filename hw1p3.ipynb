{
  "nbformat": 4,
  "nbformat_minor": 0,
  "metadata": {
    "kernelspec": {
      "name": "python3",
      "display_name": "Python 3"
    },
    "language_info": {
      "codemirror_mode": {
        "name": "ipython",
        "version": 3
      },
      "file_extension": ".py",
      "mimetype": "text/x-python",
      "name": "python",
      "nbconvert_exporter": "python",
      "pygments_lexer": "ipython3",
      "version": "3.6.6"
    },
    "colab": {
      "name": "hw1p3.ipynb",
      "provenance": [],
      "include_colab_link": true
    },
    "accelerator": "GPU",
    "widgets": {
      "application/vnd.jupyter.widget-state+json": {
        "e5577ad54d964f2e9f17b61e675ed29d": {
          "model_module": "@jupyter-widgets/controls",
          "model_name": "HBoxModel",
          "state": {
            "_view_name": "HBoxView",
            "_dom_classes": [],
            "_model_name": "HBoxModel",
            "_view_module": "@jupyter-widgets/controls",
            "_model_module_version": "1.5.0",
            "_view_count": null,
            "_view_module_version": "1.5.0",
            "box_style": "",
            "layout": "IPY_MODEL_7e4d3f9b1cd942228d583f8e6e4ecfc2",
            "_model_module": "@jupyter-widgets/controls",
            "children": [
              "IPY_MODEL_6da912ceccfe4889a0a119807de88e0d",
              "IPY_MODEL_687addf5de4b4e6290bac04cdb516dbb"
            ]
          }
        },
        "7e4d3f9b1cd942228d583f8e6e4ecfc2": {
          "model_module": "@jupyter-widgets/base",
          "model_name": "LayoutModel",
          "state": {
            "_view_name": "LayoutView",
            "grid_template_rows": null,
            "right": null,
            "justify_content": null,
            "_view_module": "@jupyter-widgets/base",
            "overflow": null,
            "_model_module_version": "1.2.0",
            "_view_count": null,
            "flex_flow": null,
            "width": null,
            "min_width": null,
            "border": null,
            "align_items": null,
            "bottom": null,
            "_model_module": "@jupyter-widgets/base",
            "top": null,
            "grid_column": null,
            "overflow_y": null,
            "overflow_x": null,
            "grid_auto_flow": null,
            "grid_area": null,
            "grid_template_columns": null,
            "flex": null,
            "_model_name": "LayoutModel",
            "justify_items": null,
            "grid_row": null,
            "max_height": null,
            "align_content": null,
            "visibility": null,
            "align_self": null,
            "height": null,
            "min_height": null,
            "padding": null,
            "grid_auto_rows": null,
            "grid_gap": null,
            "max_width": null,
            "order": null,
            "_view_module_version": "1.2.0",
            "grid_template_areas": null,
            "object_position": null,
            "object_fit": null,
            "grid_auto_columns": null,
            "margin": null,
            "display": null,
            "left": null
          }
        },
        "6da912ceccfe4889a0a119807de88e0d": {
          "model_module": "@jupyter-widgets/controls",
          "model_name": "IntProgressModel",
          "state": {
            "_view_name": "ProgressView",
            "style": "IPY_MODEL_8ab31ea444d54711975d49b34bbf7ce6",
            "_dom_classes": [],
            "description": "",
            "_model_name": "IntProgressModel",
            "bar_style": "success",
            "max": 12,
            "_view_module": "@jupyter-widgets/controls",
            "_model_module_version": "1.5.0",
            "value": 12,
            "_view_count": null,
            "_view_module_version": "1.5.0",
            "orientation": "horizontal",
            "min": 0,
            "description_tooltip": null,
            "_model_module": "@jupyter-widgets/controls",
            "layout": "IPY_MODEL_7bc3de367c0c4530a240b2154dc3bac3"
          }
        },
        "687addf5de4b4e6290bac04cdb516dbb": {
          "model_module": "@jupyter-widgets/controls",
          "model_name": "HTMLModel",
          "state": {
            "_view_name": "HTMLView",
            "style": "IPY_MODEL_bd55ccf7e5504e0da845c4191c5967e7",
            "_dom_classes": [],
            "description": "",
            "_model_name": "HTMLModel",
            "placeholder": "​",
            "_view_module": "@jupyter-widgets/controls",
            "_model_module_version": "1.5.0",
            "value": "100% 12/12 [38:34&lt;00:00, 192.39s/it]",
            "_view_count": null,
            "_view_module_version": "1.5.0",
            "description_tooltip": null,
            "_model_module": "@jupyter-widgets/controls",
            "layout": "IPY_MODEL_a0252ff9231740bc8eec709e83f9cee3"
          }
        },
        "8ab31ea444d54711975d49b34bbf7ce6": {
          "model_module": "@jupyter-widgets/controls",
          "model_name": "ProgressStyleModel",
          "state": {
            "_view_name": "StyleView",
            "_model_name": "ProgressStyleModel",
            "description_width": "",
            "_view_module": "@jupyter-widgets/base",
            "_model_module_version": "1.5.0",
            "_view_count": null,
            "_view_module_version": "1.2.0",
            "bar_color": null,
            "_model_module": "@jupyter-widgets/controls"
          }
        },
        "7bc3de367c0c4530a240b2154dc3bac3": {
          "model_module": "@jupyter-widgets/base",
          "model_name": "LayoutModel",
          "state": {
            "_view_name": "LayoutView",
            "grid_template_rows": null,
            "right": null,
            "justify_content": null,
            "_view_module": "@jupyter-widgets/base",
            "overflow": null,
            "_model_module_version": "1.2.0",
            "_view_count": null,
            "flex_flow": null,
            "width": null,
            "min_width": null,
            "border": null,
            "align_items": null,
            "bottom": null,
            "_model_module": "@jupyter-widgets/base",
            "top": null,
            "grid_column": null,
            "overflow_y": null,
            "overflow_x": null,
            "grid_auto_flow": null,
            "grid_area": null,
            "grid_template_columns": null,
            "flex": null,
            "_model_name": "LayoutModel",
            "justify_items": null,
            "grid_row": null,
            "max_height": null,
            "align_content": null,
            "visibility": null,
            "align_self": null,
            "height": null,
            "min_height": null,
            "padding": null,
            "grid_auto_rows": null,
            "grid_gap": null,
            "max_width": null,
            "order": null,
            "_view_module_version": "1.2.0",
            "grid_template_areas": null,
            "object_position": null,
            "object_fit": null,
            "grid_auto_columns": null,
            "margin": null,
            "display": null,
            "left": null
          }
        },
        "bd55ccf7e5504e0da845c4191c5967e7": {
          "model_module": "@jupyter-widgets/controls",
          "model_name": "DescriptionStyleModel",
          "state": {
            "_view_name": "StyleView",
            "_model_name": "DescriptionStyleModel",
            "description_width": "",
            "_view_module": "@jupyter-widgets/base",
            "_model_module_version": "1.5.0",
            "_view_count": null,
            "_view_module_version": "1.2.0",
            "_model_module": "@jupyter-widgets/controls"
          }
        },
        "a0252ff9231740bc8eec709e83f9cee3": {
          "model_module": "@jupyter-widgets/base",
          "model_name": "LayoutModel",
          "state": {
            "_view_name": "LayoutView",
            "grid_template_rows": null,
            "right": null,
            "justify_content": null,
            "_view_module": "@jupyter-widgets/base",
            "overflow": null,
            "_model_module_version": "1.2.0",
            "_view_count": null,
            "flex_flow": null,
            "width": null,
            "min_width": null,
            "border": null,
            "align_items": null,
            "bottom": null,
            "_model_module": "@jupyter-widgets/base",
            "top": null,
            "grid_column": null,
            "overflow_y": null,
            "overflow_x": null,
            "grid_auto_flow": null,
            "grid_area": null,
            "grid_template_columns": null,
            "flex": null,
            "_model_name": "LayoutModel",
            "justify_items": null,
            "grid_row": null,
            "max_height": null,
            "align_content": null,
            "visibility": null,
            "align_self": null,
            "height": null,
            "min_height": null,
            "padding": null,
            "grid_auto_rows": null,
            "grid_gap": null,
            "max_width": null,
            "order": null,
            "_view_module_version": "1.2.0",
            "grid_template_areas": null,
            "object_position": null,
            "object_fit": null,
            "grid_auto_columns": null,
            "margin": null,
            "display": null,
            "left": null
          }
        },
        "6e85b84376bb4ad8a8229a4932aef552": {
          "model_module": "@jupyter-widgets/controls",
          "model_name": "HBoxModel",
          "state": {
            "_view_name": "HBoxView",
            "_dom_classes": [],
            "_model_name": "HBoxModel",
            "_view_module": "@jupyter-widgets/controls",
            "_model_module_version": "1.5.0",
            "_view_count": null,
            "_view_module_version": "1.5.0",
            "box_style": "",
            "layout": "IPY_MODEL_4c40f88926ef4d2f8bf71d70366ab2ae",
            "_model_module": "@jupyter-widgets/controls",
            "children": [
              "IPY_MODEL_1e782878c7a047eeac4278caad3b5a72",
              "IPY_MODEL_f3a353c7ee6e4ab48a1cd6963a01a37b"
            ]
          }
        },
        "4c40f88926ef4d2f8bf71d70366ab2ae": {
          "model_module": "@jupyter-widgets/base",
          "model_name": "LayoutModel",
          "state": {
            "_view_name": "LayoutView",
            "grid_template_rows": null,
            "right": null,
            "justify_content": null,
            "_view_module": "@jupyter-widgets/base",
            "overflow": null,
            "_model_module_version": "1.2.0",
            "_view_count": null,
            "flex_flow": null,
            "width": null,
            "min_width": null,
            "border": null,
            "align_items": null,
            "bottom": null,
            "_model_module": "@jupyter-widgets/base",
            "top": null,
            "grid_column": null,
            "overflow_y": null,
            "overflow_x": null,
            "grid_auto_flow": null,
            "grid_area": null,
            "grid_template_columns": null,
            "flex": null,
            "_model_name": "LayoutModel",
            "justify_items": null,
            "grid_row": null,
            "max_height": null,
            "align_content": null,
            "visibility": null,
            "align_self": null,
            "height": null,
            "min_height": null,
            "padding": null,
            "grid_auto_rows": null,
            "grid_gap": null,
            "max_width": null,
            "order": null,
            "_view_module_version": "1.2.0",
            "grid_template_areas": null,
            "object_position": null,
            "object_fit": null,
            "grid_auto_columns": null,
            "margin": null,
            "display": null,
            "left": null
          }
        },
        "1e782878c7a047eeac4278caad3b5a72": {
          "model_module": "@jupyter-widgets/controls",
          "model_name": "IntProgressModel",
          "state": {
            "_view_name": "ProgressView",
            "style": "IPY_MODEL_3b0ddd6a16054c0fade12a4c522ab989",
            "_dom_classes": [],
            "description": "",
            "_model_name": "IntProgressModel",
            "bar_style": "success",
            "max": 28,
            "_view_module": "@jupyter-widgets/controls",
            "_model_module_version": "1.5.0",
            "value": 28,
            "_view_count": null,
            "_view_module_version": "1.5.0",
            "orientation": "horizontal",
            "min": 0,
            "description_tooltip": null,
            "_model_module": "@jupyter-widgets/controls",
            "layout": "IPY_MODEL_70d20f7d213a4e799783a71706df5856"
          }
        },
        "f3a353c7ee6e4ab48a1cd6963a01a37b": {
          "model_module": "@jupyter-widgets/controls",
          "model_name": "HTMLModel",
          "state": {
            "_view_name": "HTMLView",
            "style": "IPY_MODEL_c7acbe6f1d424f21a831cc55fd0f8173",
            "_dom_classes": [],
            "description": "",
            "_model_name": "HTMLModel",
            "placeholder": "​",
            "_view_module": "@jupyter-widgets/controls",
            "_model_module_version": "1.5.0",
            "value": "100% 28/28 [01:07&lt;00:00,  2.43s/it]",
            "_view_count": null,
            "_view_module_version": "1.5.0",
            "description_tooltip": null,
            "_model_module": "@jupyter-widgets/controls",
            "layout": "IPY_MODEL_60c5ec9d2db94a49b3662cb241687fd9"
          }
        },
        "3b0ddd6a16054c0fade12a4c522ab989": {
          "model_module": "@jupyter-widgets/controls",
          "model_name": "ProgressStyleModel",
          "state": {
            "_view_name": "StyleView",
            "_model_name": "ProgressStyleModel",
            "description_width": "",
            "_view_module": "@jupyter-widgets/base",
            "_model_module_version": "1.5.0",
            "_view_count": null,
            "_view_module_version": "1.2.0",
            "bar_color": null,
            "_model_module": "@jupyter-widgets/controls"
          }
        },
        "70d20f7d213a4e799783a71706df5856": {
          "model_module": "@jupyter-widgets/base",
          "model_name": "LayoutModel",
          "state": {
            "_view_name": "LayoutView",
            "grid_template_rows": null,
            "right": null,
            "justify_content": null,
            "_view_module": "@jupyter-widgets/base",
            "overflow": null,
            "_model_module_version": "1.2.0",
            "_view_count": null,
            "flex_flow": null,
            "width": null,
            "min_width": null,
            "border": null,
            "align_items": null,
            "bottom": null,
            "_model_module": "@jupyter-widgets/base",
            "top": null,
            "grid_column": null,
            "overflow_y": null,
            "overflow_x": null,
            "grid_auto_flow": null,
            "grid_area": null,
            "grid_template_columns": null,
            "flex": null,
            "_model_name": "LayoutModel",
            "justify_items": null,
            "grid_row": null,
            "max_height": null,
            "align_content": null,
            "visibility": null,
            "align_self": null,
            "height": null,
            "min_height": null,
            "padding": null,
            "grid_auto_rows": null,
            "grid_gap": null,
            "max_width": null,
            "order": null,
            "_view_module_version": "1.2.0",
            "grid_template_areas": null,
            "object_position": null,
            "object_fit": null,
            "grid_auto_columns": null,
            "margin": null,
            "display": null,
            "left": null
          }
        },
        "c7acbe6f1d424f21a831cc55fd0f8173": {
          "model_module": "@jupyter-widgets/controls",
          "model_name": "DescriptionStyleModel",
          "state": {
            "_view_name": "StyleView",
            "_model_name": "DescriptionStyleModel",
            "description_width": "",
            "_view_module": "@jupyter-widgets/base",
            "_model_module_version": "1.5.0",
            "_view_count": null,
            "_view_module_version": "1.2.0",
            "_model_module": "@jupyter-widgets/controls"
          }
        },
        "60c5ec9d2db94a49b3662cb241687fd9": {
          "model_module": "@jupyter-widgets/base",
          "model_name": "LayoutModel",
          "state": {
            "_view_name": "LayoutView",
            "grid_template_rows": null,
            "right": null,
            "justify_content": null,
            "_view_module": "@jupyter-widgets/base",
            "overflow": null,
            "_model_module_version": "1.2.0",
            "_view_count": null,
            "flex_flow": null,
            "width": null,
            "min_width": null,
            "border": null,
            "align_items": null,
            "bottom": null,
            "_model_module": "@jupyter-widgets/base",
            "top": null,
            "grid_column": null,
            "overflow_y": null,
            "overflow_x": null,
            "grid_auto_flow": null,
            "grid_area": null,
            "grid_template_columns": null,
            "flex": null,
            "_model_name": "LayoutModel",
            "justify_items": null,
            "grid_row": null,
            "max_height": null,
            "align_content": null,
            "visibility": null,
            "align_self": null,
            "height": null,
            "min_height": null,
            "padding": null,
            "grid_auto_rows": null,
            "grid_gap": null,
            "max_width": null,
            "order": null,
            "_view_module_version": "1.2.0",
            "grid_template_areas": null,
            "object_position": null,
            "object_fit": null,
            "grid_auto_columns": null,
            "margin": null,
            "display": null,
            "left": null
          }
        }
      }
    }
  },
  "cells": [
    {
      "cell_type": "markdown",
      "metadata": {
        "id": "view-in-github",
        "colab_type": "text"
      },
      "source": [
        "<a href=\"https://colab.research.google.com/github/Hotckiss/DUL/blob/hw1/hw1p3.ipynb\" target=\"_parent\"><img src=\"https://colab.research.google.com/assets/colab-badge.svg\" alt=\"Open In Colab\"/></a>"
      ]
    },
    {
      "cell_type": "code",
      "metadata": {
        "id": "N2Jsb_1X2Rba",
        "colab_type": "code",
        "colab": {}
      },
      "source": [
        "import os\n",
        "import pickle\n",
        "import numpy as np\n",
        "import torch\n",
        "import torch.nn as nn\n",
        "import torch.optim as optim\n",
        "import torch.utils.data as data\n",
        "import torch.nn.functional as F\n",
        "from google.colab import drive\n",
        "from tqdm import tnrange\n",
        "import matplotlib.pyplot as plt\n",
        "import torchvision"
      ],
      "execution_count": 0,
      "outputs": []
    },
    {
      "cell_type": "code",
      "metadata": {
        "id": "3SmZqMKysg26",
        "colab_type": "code",
        "outputId": "71d97e89-51ce-4266-9929-7869609861ae",
        "colab": {
          "base_uri": "https://localhost:8080/",
          "height": 34
        }
      },
      "source": [
        "device = torch.device(\"cuda:0\")\n",
        "path_ = os.path.join('drive', 'My Drive', 'mnist-hw1.pkl')\n",
        "drive.mount('/content/drive')"
      ],
      "execution_count": 0,
      "outputs": [
        {
          "output_type": "stream",
          "text": [
            "Drive already mounted at /content/drive; to attempt to forcibly remount, call drive.mount(\"/content/drive\", force_remount=True).\n"
          ],
          "name": "stdout"
        }
      ]
    },
    {
      "cell_type": "code",
      "metadata": {
        "id": "j4568WFlqOV2",
        "colab_type": "code",
        "colab": {}
      },
      "source": [
        "with open(path_, 'rb') as file:\n",
        "    dataset = pickle.load(file)\n",
        "    \n",
        "X_train, X_test = dataset['train'], dataset['test']"
      ],
      "execution_count": 0,
      "outputs": []
    },
    {
      "cell_type": "code",
      "metadata": {
        "id": "GJAEkB8B8QOw",
        "colab_type": "code",
        "colab": {}
      },
      "source": [
        "def plot_loss(loss_train, loss_val):\n",
        "    plt.plot(np.arange(len(loss_train)), loss_train, label='train')\n",
        "    plt.plot(np.arange(len(loss_val)), loss_val, label='validate')\n",
        "    plt.legend()\n",
        "    plt.title(\"losses\")\n",
        "    plt.xlabel(\"step\")\n",
        "    plt.ylabel(\"loss\")\n",
        "    plt.show()"
      ],
      "execution_count": 0,
      "outputs": []
    },
    {
      "cell_type": "code",
      "metadata": {
        "id": "8fVODb4VqOV6",
        "colab_type": "code",
        "colab": {}
      },
      "source": [
        "def collate_fn(x):\n",
        "    return torch.LongTensor(x).permute(0, 3, 1, 2)"
      ],
      "execution_count": 0,
      "outputs": []
    },
    {
      "cell_type": "code",
      "metadata": {
        "id": "S0Yoj7A87u5P",
        "colab_type": "code",
        "colab": {}
      },
      "source": [
        "def loss_function(p, x):\n",
        "    p = F.softmax(p, dim=-1)\n",
        "    x = F.one_hot(x, 4).float()\n",
        "    p = (p * x).sum(dim=-1)\n",
        "    return -torch.log(p + 1e-9).mean()"
      ],
      "execution_count": 0,
      "outputs": []
    },
    {
      "cell_type": "code",
      "metadata": {
        "id": "cQcxkrLSqOV_",
        "colab_type": "code",
        "colab": {}
      },
      "source": [
        "class MaskedConv2d(nn.Conv2d):\n",
        "    def __init__(self, mask_type, channel_in, channel_out, kernel_size, stride, padding):\n",
        "        super(MaskedConv2d, self).__init__(channel_in, channel_out, kernel_size, stride, padding, bias=False)\n",
        "        mask = torch.ones_like(self.weight)\n",
        "        _, _, h, w = self.weight.size()\n",
        "        h, w = h // 2, w // 2\n",
        "        mask[:, :, h, w + (mask_type == 'B'):] = 0\n",
        "        mask[:, :, h + 1:] = 0\n",
        "        self.register_buffer('mask', mask)\n",
        "\n",
        "    def forward(self, x):\n",
        "        self.weight.data *= self.mask\n",
        "        return super(MaskedConv2d, self).forward(x)"
      ],
      "execution_count": 0,
      "outputs": []
    },
    {
      "cell_type": "code",
      "metadata": {
        "id": "Jd5Sn8hvqOWC",
        "colab_type": "code",
        "colab": {}
      },
      "source": [
        "class MaskResBlock(nn.Module):\n",
        "    def __init__(self, h):\n",
        "        super(MaskResBlock, self).__init__()\n",
        "        self.net = nn.Sequential(\n",
        "            nn.ReLU(),\n",
        "            nn.Conv2d(2 * h, h, 1),\n",
        "            nn.BatchNorm2d(h),\n",
        "            nn.ReLU(),\n",
        "            MaskedConv2d('B', h, h, 3, 1, 1),\n",
        "            nn.BatchNorm2d(h),\n",
        "            nn.ReLU(),\n",
        "            nn.Conv2d(h, 2 * h, 1),\n",
        "            nn.BatchNorm2d(2 * h)\n",
        "        )\n",
        "\n",
        "    def forward(self, x):\n",
        "        return self.net(x) + x"
      ],
      "execution_count": 0,
      "outputs": []
    },
    {
      "cell_type": "code",
      "metadata": {
        "id": "nPr_a4xQqOWE",
        "colab_type": "code",
        "colab": {}
      },
      "source": [
        "class PixelCNN(nn.Module):\n",
        "    def __init__(self, h):\n",
        "        super(PixelCNN, self).__init__()\n",
        "        self.net = nn.Sequential(\n",
        "            MaskedConv2d('A', 3, 2 * h, 7, 1, 3),\n",
        "            MaskResBlock(h),\n",
        "            MaskResBlock(h),\n",
        "            MaskResBlock(h),\n",
        "            MaskResBlock(h),\n",
        "            MaskResBlock(h),\n",
        "            MaskResBlock(h),\n",
        "            MaskResBlock(h),\n",
        "            MaskResBlock(h),\n",
        "            MaskResBlock(h),\n",
        "            MaskResBlock(h),\n",
        "            MaskResBlock(h),\n",
        "            MaskResBlock(h),\n",
        "            nn.ReLU(),\n",
        "            nn.Conv2d(2 * h, 2 * h, 1),\n",
        "            nn.BatchNorm2d(2 * h),\n",
        "            nn.ReLU(),\n",
        "            nn.Conv2d(2 * h, 3 * 4, 1)\n",
        "        )\n",
        "\n",
        "    def forward(self, x):\n",
        "        n, c, h, w = x.shape\n",
        "        return self.net(x.float()).reshape(n, c, 4, h, w).permute(0, 1, 3, 4, 2)"
      ],
      "execution_count": 0,
      "outputs": []
    },
    {
      "cell_type": "code",
      "metadata": {
        "id": "dxF_pmqvqOV8",
        "colab_type": "code",
        "colab": {}
      },
      "source": [
        "train_loader = data.DataLoader(dataset=X_train, batch_size=128, shuffle=True, collate_fn=collate_fn)\n",
        "val_loader = data.DataLoader(dataset=X_test, batch_size=128, shuffle=False, collate_fn=collate_fn)"
      ],
      "execution_count": 0,
      "outputs": []
    },
    {
      "cell_type": "code",
      "metadata": {
        "id": "NTisJYsEqOWQ",
        "colab_type": "code",
        "colab": {}
      },
      "source": [
        "epochs_num = 12\n",
        "model = PixelCNN(h=128).to(device)\n",
        "optimizer = optim.Adam(model.parameters(), lr=1e-3)"
      ],
      "execution_count": 0,
      "outputs": []
    },
    {
      "cell_type": "code",
      "metadata": {
        "id": "wBLOUynrqOWJ",
        "colab_type": "code",
        "colab": {}
      },
      "source": [
        "def train():\n",
        "    loss_train, loss_val = [], []\n",
        "\n",
        "    for i in tnrange(epochs_num):\n",
        "        losses = []\n",
        "        model.train()\n",
        "        for xs in train_loader:\n",
        "            xs = xs.to(device)\n",
        "            optimizer.zero_grad()\n",
        "            loss = loss_function(model(xs), xs)\n",
        "            losses.append(loss.item())\n",
        "            loss.backward()\n",
        "            optimizer.step()\n",
        "\n",
        "        loss_train.append(np.array(losses).mean())\n",
        "\n",
        "        losses = []\n",
        "        model.eval()\n",
        "        with torch.no_grad():\n",
        "            for xs in val_loader:\n",
        "                xs = xs.to(device)\n",
        "                loss = loss_function(model(xs), xs)\n",
        "                losses.append(loss.item())\n",
        "\n",
        "        loss_val.append(np.array(losses).mean())\n",
        "\n",
        "    return loss_train, loss_val"
      ],
      "execution_count": 0,
      "outputs": []
    },
    {
      "cell_type": "code",
      "metadata": {
        "id": "5YoECj3JAC97",
        "colab_type": "code",
        "outputId": "32c52ec7-af1d-4b04-cf63-f202f148374d",
        "colab": {
          "base_uri": "https://localhost:8080/",
          "height": 66,
          "referenced_widgets": [
            "e5577ad54d964f2e9f17b61e675ed29d",
            "7e4d3f9b1cd942228d583f8e6e4ecfc2",
            "6da912ceccfe4889a0a119807de88e0d",
            "687addf5de4b4e6290bac04cdb516dbb",
            "8ab31ea444d54711975d49b34bbf7ce6",
            "7bc3de367c0c4530a240b2154dc3bac3",
            "bd55ccf7e5504e0da845c4191c5967e7",
            "a0252ff9231740bc8eec709e83f9cee3"
          ]
        }
      },
      "source": [
        "loss_train, loss_val = train()"
      ],
      "execution_count": 0,
      "outputs": [
        {
          "output_type": "display_data",
          "data": {
            "application/vnd.jupyter.widget-view+json": {
              "model_id": "e5577ad54d964f2e9f17b61e675ed29d",
              "version_minor": 0,
              "version_major": 2
            },
            "text/plain": [
              "HBox(children=(IntProgress(value=0, max=12), HTML(value='')))"
            ]
          },
          "metadata": {
            "tags": []
          }
        },
        {
          "output_type": "stream",
          "text": [
            "\n"
          ],
          "name": "stdout"
        }
      ]
    },
    {
      "cell_type": "code",
      "metadata": {
        "id": "Sm3jvQ889gDz",
        "colab_type": "code",
        "outputId": "68e96b1a-1d42-4840-b504-4112aaf786bc",
        "colab": {
          "base_uri": "https://localhost:8080/",
          "height": 295
        }
      },
      "source": [
        "plot_loss(loss_train, loss_val)"
      ],
      "execution_count": 0,
      "outputs": [
        {
          "output_type": "display_data",
          "data": {
            "image/png": "[encoded data removed]",
            "text/plain": [
              "<Figure size 432x288 with 1 Axes>"
            ]
          },
          "metadata": {
            "tags": []
          }
        }
      ]
    },
    {
      "cell_type": "code",
      "metadata": {
        "id": "tsnE2fQLqOWL",
        "colab_type": "code",
        "colab": {}
      },
      "source": [
        "def sample_images(model, n=24):\n",
        "    samples = np.zeros((n, 28, 28, 3), dtype=np.uint8)\n",
        "    with torch.no_grad():\n",
        "        for y in tnrange(28):\n",
        "            for x in range(28):\n",
        "                for c in range(3):\n",
        "                    xs = collate_fn(samples)\n",
        "                    ps = model(xs.cuda()).cpu()\n",
        "                    ps = F.softmax(ps, dim=4).numpy()\n",
        "                    for i in range(n):\n",
        "                        samples[i, y, x, c] = np.random.choice(4, p=ps[i, c, y, x])\n",
        "                        \n",
        "    return samples * 85"
      ],
      "execution_count": 0,
      "outputs": []
    },
    {
      "cell_type": "code",
      "metadata": {
        "id": "1WRRNR25qOWU",
        "colab_type": "code",
        "outputId": "cdb3d244-b6c8-4b57-efa7-481fe4ac929e",
        "colab": {
          "base_uri": "https://localhost:8080/",
          "height": 66,
          "referenced_widgets": [
            "6e85b84376bb4ad8a8229a4932aef552",
            "4c40f88926ef4d2f8bf71d70366ab2ae",
            "1e782878c7a047eeac4278caad3b5a72",
            "f3a353c7ee6e4ab48a1cd6963a01a37b",
            "3b0ddd6a16054c0fade12a4c522ab989",
            "70d20f7d213a4e799783a71706df5856",
            "c7acbe6f1d424f21a831cc55fd0f8173",
            "60c5ec9d2db94a49b3662cb241687fd9"
          ]
        }
      },
      "source": [
        "model.eval()\n",
        "samples = sample_images(model)"
      ],
      "execution_count": 0,
      "outputs": [
        {
          "output_type": "display_data",
          "data": {
            "application/vnd.jupyter.widget-view+json": {
              "model_id": "6e85b84376bb4ad8a8229a4932aef552",
              "version_minor": 0,
              "version_major": 2
            },
            "text/plain": [
              "HBox(children=(IntProgress(value=0, max=28), HTML(value='')))"
            ]
          },
          "metadata": {
            "tags": []
          }
        },
        {
          "output_type": "stream",
          "text": [
            "\n"
          ],
          "name": "stdout"
        }
      ]
    },
    {
      "cell_type": "code",
      "metadata": {
        "id": "dvaHdg9GC8Cs",
        "colab_type": "code",
        "outputId": "622e84ae-555e-4d14-e533-5f62351133be",
        "colab": {
          "base_uri": "https://localhost:8080/",
          "height": 385
        }
      },
      "source": [
        "image = torchvision.utils.make_grid(torch.from_numpy(samples.swapaxes(3, 2).swapaxes(2, 1)).long(), nrow=3).cpu().numpy()\n",
        "plt.figure(figsize=(15,15))\n",
        "plt.imshow(np.transpose(image, (2, 1, 0)))"
      ],
      "execution_count": 0,
      "outputs": [
        {
          "output_type": "execute_result",
          "data": {
            "text/plain": [
              "<matplotlib.image.AxesImage at 0x7feedc6787f0>"
            ]
          },
          "metadata": {
            "tags": []
          },
          "execution_count": 17
        },
        {
          "output_type": "display_data",
          "data": {
            "image/png": "[encoded data removed]",
            "text/plain": [
              "<Figure size 1080x1080 with 1 Axes>"
            ]
          },
          "metadata": {
            "tags": []
          }
        }
      ]
    },
    {
      "cell_type": "code",
      "metadata": {
        "id": "hBIVDQ8OyEA4",
        "colab_type": "code",
        "colab": {}
      },
      "source": [
        "def receptive_field(model, X):\n",
        "    hs = 14\n",
        "    x = torch.tensor(X.numpy().astype(np.float32), requires_grad=True, device=device)\n",
        "    loss = loss_function(model(x)[:, 0, hs, hs].cpu(), X[:, 0, hs, hs].cpu()).backward()\n",
        "    \n",
        "    plt.imshow(x.grad.abs().sum(dim=(0, 1)).cpu().float().numpy())\n",
        "    plt.show()"
      ],
      "execution_count": 0,
      "outputs": []
    },
    {
      "cell_type": "code",
      "metadata": {
        "colab_type": "code",
        "outputId": "9c15039f-f34d-47a5-b91a-c4d5b7f0c0b8",
        "id": "wJ1gX-tlqui2",
        "colab": {
          "base_uri": "https://localhost:8080/",
          "height": 265
        }
      },
      "source": [
        "model2 = PixelCNN(h=128).to(device)\n",
        "X = collate_fn(X_test[:100])\n",
        "receptive_field(model2, X)"
      ],
      "execution_count": 0,
      "outputs": [
        {
          "output_type": "display_data",
          "data": {
            "image/png": "[encoded data removed]",
            "text/plain": [
              "<Figure size 432x288 with 1 Axes>"
            ]
          },
          "metadata": {
            "tags": []
          }
        }
      ]
    }
  ]
}