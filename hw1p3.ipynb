{
  "nbformat": 4,
  "nbformat_minor": 0,
  "metadata": {
    "kernelspec": {
      "name": "python3",
      "display_name": "Python 3"
    },
    "language_info": {
      "codemirror_mode": {
        "name": "ipython",
        "version": 3
      },
      "file_extension": ".py",
      "mimetype": "text/x-python",
      "name": "python",
      "nbconvert_exporter": "python",
      "pygments_lexer": "ipython3",
      "version": "3.6.6"
    },
    "colab": {
      "name": "hw1p3.ipynb",
      "provenance": [],
      "include_colab_link": true
    },
    "accelerator": "GPU",
    "widgets": {
      "application/vnd.jupyter.widget-state+json": {
        "862d90f45d3a47d68d10ec7140280f7b": {
          "model_module": "@jupyter-widgets/controls",
          "model_name": "HBoxModel",
          "state": {
            "_view_name": "HBoxView",
            "_dom_classes": [],
            "_model_name": "HBoxModel",
            "_view_module": "@jupyter-widgets/controls",
            "_model_module_version": "1.5.0",
            "_view_count": null,
            "_view_module_version": "1.5.0",
            "box_style": "",
            "layout": "IPY_MODEL_7c18d2059a3b4600800a030a8538c046",
            "_model_module": "@jupyter-widgets/controls",
            "children": [
              "IPY_MODEL_3662fe313a634fc1ab7c4bc325a5d3c1",
              "IPY_MODEL_0dcdf32fd19e47ebafecd6b08b3959a6"
            ]
          }
        },
        "7c18d2059a3b4600800a030a8538c046": {
          "model_module": "@jupyter-widgets/base",
          "model_name": "LayoutModel",
          "state": {
            "_view_name": "LayoutView",
            "grid_template_rows": null,
            "right": null,
            "justify_content": null,
            "_view_module": "@jupyter-widgets/base",
            "overflow": null,
            "_model_module_version": "1.2.0",
            "_view_count": null,
            "flex_flow": null,
            "width": null,
            "min_width": null,
            "border": null,
            "align_items": null,
            "bottom": null,
            "_model_module": "@jupyter-widgets/base",
            "top": null,
            "grid_column": null,
            "overflow_y": null,
            "overflow_x": null,
            "grid_auto_flow": null,
            "grid_area": null,
            "grid_template_columns": null,
            "flex": null,
            "_model_name": "LayoutModel",
            "justify_items": null,
            "grid_row": null,
            "max_height": null,
            "align_content": null,
            "visibility": null,
            "align_self": null,
            "height": null,
            "min_height": null,
            "padding": null,
            "grid_auto_rows": null,
            "grid_gap": null,
            "max_width": null,
            "order": null,
            "_view_module_version": "1.2.0",
            "grid_template_areas": null,
            "object_position": null,
            "object_fit": null,
            "grid_auto_columns": null,
            "margin": null,
            "display": null,
            "left": null
          }
        },
        "3662fe313a634fc1ab7c4bc325a5d3c1": {
          "model_module": "@jupyter-widgets/controls",
          "model_name": "IntProgressModel",
          "state": {
            "_view_name": "ProgressView",
            "style": "IPY_MODEL_33657636e4564a6d9fa0434f07e3f5db",
            "_dom_classes": [],
            "description": "",
            "_model_name": "IntProgressModel",
            "bar_style": "success",
            "max": 7,
            "_view_module": "@jupyter-widgets/controls",
            "_model_module_version": "1.5.0",
            "value": 7,
            "_view_count": null,
            "_view_module_version": "1.5.0",
            "orientation": "horizontal",
            "min": 0,
            "description_tooltip": null,
            "_model_module": "@jupyter-widgets/controls",
            "layout": "IPY_MODEL_7acc597211a44f8d85e14079040198f0"
          }
        },
        "0dcdf32fd19e47ebafecd6b08b3959a6": {
          "model_module": "@jupyter-widgets/controls",
          "model_name": "HTMLModel",
          "state": {
            "_view_name": "HTMLView",
            "style": "IPY_MODEL_85cb75f6046c4ffcab088e22484d3553",
            "_dom_classes": [],
            "description": "",
            "_model_name": "HTMLModel",
            "placeholder": "​",
            "_view_module": "@jupyter-widgets/controls",
            "_model_module_version": "1.5.0",
            "value": "100% 7/7 [22:44&lt;00:00, 194.93s/it]",
            "_view_count": null,
            "_view_module_version": "1.5.0",
            "description_tooltip": null,
            "_model_module": "@jupyter-widgets/controls",
            "layout": "IPY_MODEL_fdd74138120b4e05b46bc2d7677d79ec"
          }
        },
        "33657636e4564a6d9fa0434f07e3f5db": {
          "model_module": "@jupyter-widgets/controls",
          "model_name": "ProgressStyleModel",
          "state": {
            "_view_name": "StyleView",
            "_model_name": "ProgressStyleModel",
            "description_width": "",
            "_view_module": "@jupyter-widgets/base",
            "_model_module_version": "1.5.0",
            "_view_count": null,
            "_view_module_version": "1.2.0",
            "bar_color": null,
            "_model_module": "@jupyter-widgets/controls"
          }
        },
        "7acc597211a44f8d85e14079040198f0": {
          "model_module": "@jupyter-widgets/base",
          "model_name": "LayoutModel",
          "state": {
            "_view_name": "LayoutView",
            "grid_template_rows": null,
            "right": null,
            "justify_content": null,
            "_view_module": "@jupyter-widgets/base",
            "overflow": null,
            "_model_module_version": "1.2.0",
            "_view_count": null,
            "flex_flow": null,
            "width": null,
            "min_width": null,
            "border": null,
            "align_items": null,
            "bottom": null,
            "_model_module": "@jupyter-widgets/base",
            "top": null,
            "grid_column": null,
            "overflow_y": null,
            "overflow_x": null,
            "grid_auto_flow": null,
            "grid_area": null,
            "grid_template_columns": null,
            "flex": null,
            "_model_name": "LayoutModel",
            "justify_items": null,
            "grid_row": null,
            "max_height": null,
            "align_content": null,
            "visibility": null,
            "align_self": null,
            "height": null,
            "min_height": null,
            "padding": null,
            "grid_auto_rows": null,
            "grid_gap": null,
            "max_width": null,
            "order": null,
            "_view_module_version": "1.2.0",
            "grid_template_areas": null,
            "object_position": null,
            "object_fit": null,
            "grid_auto_columns": null,
            "margin": null,
            "display": null,
            "left": null
          }
        },
        "85cb75f6046c4ffcab088e22484d3553": {
          "model_module": "@jupyter-widgets/controls",
          "model_name": "DescriptionStyleModel",
          "state": {
            "_view_name": "StyleView",
            "_model_name": "DescriptionStyleModel",
            "description_width": "",
            "_view_module": "@jupyter-widgets/base",
            "_model_module_version": "1.5.0",
            "_view_count": null,
            "_view_module_version": "1.2.0",
            "_model_module": "@jupyter-widgets/controls"
          }
        },
        "fdd74138120b4e05b46bc2d7677d79ec": {
          "model_module": "@jupyter-widgets/base",
          "model_name": "LayoutModel",
          "state": {
            "_view_name": "LayoutView",
            "grid_template_rows": null,
            "right": null,
            "justify_content": null,
            "_view_module": "@jupyter-widgets/base",
            "overflow": null,
            "_model_module_version": "1.2.0",
            "_view_count": null,
            "flex_flow": null,
            "width": null,
            "min_width": null,
            "border": null,
            "align_items": null,
            "bottom": null,
            "_model_module": "@jupyter-widgets/base",
            "top": null,
            "grid_column": null,
            "overflow_y": null,
            "overflow_x": null,
            "grid_auto_flow": null,
            "grid_area": null,
            "grid_template_columns": null,
            "flex": null,
            "_model_name": "LayoutModel",
            "justify_items": null,
            "grid_row": null,
            "max_height": null,
            "align_content": null,
            "visibility": null,
            "align_self": null,
            "height": null,
            "min_height": null,
            "padding": null,
            "grid_auto_rows": null,
            "grid_gap": null,
            "max_width": null,
            "order": null,
            "_view_module_version": "1.2.0",
            "grid_template_areas": null,
            "object_position": null,
            "object_fit": null,
            "grid_auto_columns": null,
            "margin": null,
            "display": null,
            "left": null
          }
        },
        "5963585ec31942aa988a07d9b445c0be": {
          "model_module": "@jupyter-widgets/controls",
          "model_name": "HBoxModel",
          "state": {
            "_view_name": "HBoxView",
            "_dom_classes": [],
            "_model_name": "HBoxModel",
            "_view_module": "@jupyter-widgets/controls",
            "_model_module_version": "1.5.0",
            "_view_count": null,
            "_view_module_version": "1.5.0",
            "box_style": "",
            "layout": "IPY_MODEL_ed9b7c0364a24265aec390e73b196f80",
            "_model_module": "@jupyter-widgets/controls",
            "children": [
              "IPY_MODEL_3a0d15437e8e48c1bbabd9020a52646e",
              "IPY_MODEL_6ab93f82d00548df95ae1c7ab30bd1b7"
            ]
          }
        },
        "ed9b7c0364a24265aec390e73b196f80": {
          "model_module": "@jupyter-widgets/base",
          "model_name": "LayoutModel",
          "state": {
            "_view_name": "LayoutView",
            "grid_template_rows": null,
            "right": null,
            "justify_content": null,
            "_view_module": "@jupyter-widgets/base",
            "overflow": null,
            "_model_module_version": "1.2.0",
            "_view_count": null,
            "flex_flow": null,
            "width": null,
            "min_width": null,
            "border": null,
            "align_items": null,
            "bottom": null,
            "_model_module": "@jupyter-widgets/base",
            "top": null,
            "grid_column": null,
            "overflow_y": null,
            "overflow_x": null,
            "grid_auto_flow": null,
            "grid_area": null,
            "grid_template_columns": null,
            "flex": null,
            "_model_name": "LayoutModel",
            "justify_items": null,
            "grid_row": null,
            "max_height": null,
            "align_content": null,
            "visibility": null,
            "align_self": null,
            "height": null,
            "min_height": null,
            "padding": null,
            "grid_auto_rows": null,
            "grid_gap": null,
            "max_width": null,
            "order": null,
            "_view_module_version": "1.2.0",
            "grid_template_areas": null,
            "object_position": null,
            "object_fit": null,
            "grid_auto_columns": null,
            "margin": null,
            "display": null,
            "left": null
          }
        },
        "3a0d15437e8e48c1bbabd9020a52646e": {
          "model_module": "@jupyter-widgets/controls",
          "model_name": "IntProgressModel",
          "state": {
            "_view_name": "ProgressView",
            "style": "IPY_MODEL_124e179e23bb41aaaafda7e1798da781",
            "_dom_classes": [],
            "description": "",
            "_model_name": "IntProgressModel",
            "bar_style": "success",
            "max": 28,
            "_view_module": "@jupyter-widgets/controls",
            "_model_module_version": "1.5.0",
            "value": 28,
            "_view_count": null,
            "_view_module_version": "1.5.0",
            "orientation": "horizontal",
            "min": 0,
            "description_tooltip": null,
            "_model_module": "@jupyter-widgets/controls",
            "layout": "IPY_MODEL_4b5190fb1cad418dbd19e6875b2af47a"
          }
        },
        "6ab93f82d00548df95ae1c7ab30bd1b7": {
          "model_module": "@jupyter-widgets/controls",
          "model_name": "HTMLModel",
          "state": {
            "_view_name": "HTMLView",
            "style": "IPY_MODEL_74468ed1908e446bbffc6ffab1480761",
            "_dom_classes": [],
            "description": "",
            "_model_name": "HTMLModel",
            "placeholder": "​",
            "_view_module": "@jupyter-widgets/controls",
            "_model_module_version": "1.5.0",
            "value": "100% 28/28 [01:07&lt;00:00,  2.42s/it]",
            "_view_count": null,
            "_view_module_version": "1.5.0",
            "description_tooltip": null,
            "_model_module": "@jupyter-widgets/controls",
            "layout": "IPY_MODEL_d025e70cf8c941739f4a4978928a5c72"
          }
        },
        "124e179e23bb41aaaafda7e1798da781": {
          "model_module": "@jupyter-widgets/controls",
          "model_name": "ProgressStyleModel",
          "state": {
            "_view_name": "StyleView",
            "_model_name": "ProgressStyleModel",
            "description_width": "",
            "_view_module": "@jupyter-widgets/base",
            "_model_module_version": "1.5.0",
            "_view_count": null,
            "_view_module_version": "1.2.0",
            "bar_color": null,
            "_model_module": "@jupyter-widgets/controls"
          }
        },
        "4b5190fb1cad418dbd19e6875b2af47a": {
          "model_module": "@jupyter-widgets/base",
          "model_name": "LayoutModel",
          "state": {
            "_view_name": "LayoutView",
            "grid_template_rows": null,
            "right": null,
            "justify_content": null,
            "_view_module": "@jupyter-widgets/base",
            "overflow": null,
            "_model_module_version": "1.2.0",
            "_view_count": null,
            "flex_flow": null,
            "width": null,
            "min_width": null,
            "border": null,
            "align_items": null,
            "bottom": null,
            "_model_module": "@jupyter-widgets/base",
            "top": null,
            "grid_column": null,
            "overflow_y": null,
            "overflow_x": null,
            "grid_auto_flow": null,
            "grid_area": null,
            "grid_template_columns": null,
            "flex": null,
            "_model_name": "LayoutModel",
            "justify_items": null,
            "grid_row": null,
            "max_height": null,
            "align_content": null,
            "visibility": null,
            "align_self": null,
            "height": null,
            "min_height": null,
            "padding": null,
            "grid_auto_rows": null,
            "grid_gap": null,
            "max_width": null,
            "order": null,
            "_view_module_version": "1.2.0",
            "grid_template_areas": null,
            "object_position": null,
            "object_fit": null,
            "grid_auto_columns": null,
            "margin": null,
            "display": null,
            "left": null
          }
        },
        "74468ed1908e446bbffc6ffab1480761": {
          "model_module": "@jupyter-widgets/controls",
          "model_name": "DescriptionStyleModel",
          "state": {
            "_view_name": "StyleView",
            "_model_name": "DescriptionStyleModel",
            "description_width": "",
            "_view_module": "@jupyter-widgets/base",
            "_model_module_version": "1.5.0",
            "_view_count": null,
            "_view_module_version": "1.2.0",
            "_model_module": "@jupyter-widgets/controls"
          }
        },
        "d025e70cf8c941739f4a4978928a5c72": {
          "model_module": "@jupyter-widgets/base",
          "model_name": "LayoutModel",
          "state": {
            "_view_name": "LayoutView",
            "grid_template_rows": null,
            "right": null,
            "justify_content": null,
            "_view_module": "@jupyter-widgets/base",
            "overflow": null,
            "_model_module_version": "1.2.0",
            "_view_count": null,
            "flex_flow": null,
            "width": null,
            "min_width": null,
            "border": null,
            "align_items": null,
            "bottom": null,
            "_model_module": "@jupyter-widgets/base",
            "top": null,
            "grid_column": null,
            "overflow_y": null,
            "overflow_x": null,
            "grid_auto_flow": null,
            "grid_area": null,
            "grid_template_columns": null,
            "flex": null,
            "_model_name": "LayoutModel",
            "justify_items": null,
            "grid_row": null,
            "max_height": null,
            "align_content": null,
            "visibility": null,
            "align_self": null,
            "height": null,
            "min_height": null,
            "padding": null,
            "grid_auto_rows": null,
            "grid_gap": null,
            "max_width": null,
            "order": null,
            "_view_module_version": "1.2.0",
            "grid_template_areas": null,
            "object_position": null,
            "object_fit": null,
            "grid_auto_columns": null,
            "margin": null,
            "display": null,
            "left": null
          }
        }
      }
    }
  },
  "cells": [
    {
      "cell_type": "markdown",
      "metadata": {
        "id": "view-in-github",
        "colab_type": "text"
      },
      "source": [
        "<a href=\"https://colab.research.google.com/github/Hotckiss/DUL/blob/hw1/hw1p3.ipynb\" target=\"_parent\"><img src=\"https://colab.research.google.com/assets/colab-badge.svg\" alt=\"Open In Colab\"/></a>"
      ]
    },
    {
      "cell_type": "markdown",
      "metadata": {
        "id": "gDqE9Mg5qOV0",
        "colab_type": "text"
      },
      "source": [
        "# HW 1, High-dimensional data"
      ]
    },
    {
      "cell_type": "code",
      "metadata": {
        "id": "N2Jsb_1X2Rba",
        "colab_type": "code",
        "colab": {}
      },
      "source": [
        "import os\n",
        "import pickle\n",
        "import numpy as np\n",
        "import torch\n",
        "import torch.nn as nn\n",
        "import torch.optim as optim\n",
        "import torch.utils.data as data\n",
        "import torch.nn.functional as F\n",
        "from google.colab import drive\n",
        "from tqdm import tnrange\n",
        "import matplotlib.pyplot as plt\n",
        "import torchvision"
      ],
      "execution_count": 0,
      "outputs": []
    },
    {
      "cell_type": "code",
      "metadata": {
        "id": "3SmZqMKysg26",
        "colab_type": "code",
        "colab": {
          "base_uri": "https://localhost:8080/",
          "height": 34
        },
        "outputId": "a48fa422-be02-4f4a-a656-a1fa1ffb884b"
      },
      "source": [
        "device = torch.device(\"cuda:0\")\n",
        "path_ = os.path.join('drive', 'My Drive', 'mnist-hw1.pkl')\n",
        "drive.mount('/content/drive')"
      ],
      "execution_count": 2,
      "outputs": [
        {
          "output_type": "stream",
          "text": [
            "Drive already mounted at /content/drive; to attempt to forcibly remount, call drive.mount(\"/content/drive\", force_remount=True).\n"
          ],
          "name": "stdout"
        }
      ]
    },
    {
      "cell_type": "code",
      "metadata": {
        "id": "j4568WFlqOV2",
        "colab_type": "code",
        "colab": {}
      },
      "source": [
        "with open(path_, 'rb') as file:\n",
        "    dataset = pickle.load(file)\n",
        "    \n",
        "X_train, X_test = dataset['train'], dataset['test']"
      ],
      "execution_count": 0,
      "outputs": []
    },
    {
      "cell_type": "code",
      "metadata": {
        "id": "GJAEkB8B8QOw",
        "colab_type": "code",
        "colab": {}
      },
      "source": [
        "def plot_loss(loss_train, loss_val):\n",
        "    plt.plot(np.arange(len(loss_train)), loss_train, label='train')\n",
        "    plt.plot(np.arange(len(loss_val)), loss_val, label='validate')\n",
        "    plt.legend()\n",
        "    plt.title(\"losses\")\n",
        "    plt.xlabel(\"step\")\n",
        "    plt.ylabel(\"loss\")\n",
        "    plt.show()"
      ],
      "execution_count": 0,
      "outputs": []
    },
    {
      "cell_type": "code",
      "metadata": {
        "id": "8fVODb4VqOV6",
        "colab_type": "code",
        "colab": {}
      },
      "source": [
        "def collate_fn(x):\n",
        "    return torch.LongTensor(x).permute(0, 3, 1, 2)"
      ],
      "execution_count": 0,
      "outputs": []
    },
    {
      "cell_type": "code",
      "metadata": {
        "id": "S0Yoj7A87u5P",
        "colab_type": "code",
        "colab": {}
      },
      "source": [
        "def loss_function(p, x):\n",
        "    p = F.softmax(p, dim=-1)\n",
        "    x = F.one_hot(x, 4).float()\n",
        "    p = (p * x).sum(dim=-1)\n",
        "    return -torch.log(p + 1e-9).mean()"
      ],
      "execution_count": 0,
      "outputs": []
    },
    {
      "cell_type": "code",
      "metadata": {
        "id": "cQcxkrLSqOV_",
        "colab_type": "code",
        "colab": {}
      },
      "source": [
        "class MaskedConv2d(nn.Conv2d):\n",
        "    def __init__(self, mask_type, channel_in, channel_out, kernel_size, stride, padding):\n",
        "        super(MaskedConv2d, self).__init__(channel_in, channel_out, kernel_size, stride, padding, bias=False)\n",
        "        mask = torch.ones_like(self.weight)\n",
        "        _, _, h, w = self.weight.size()\n",
        "        h, w = h // 2, w // 2\n",
        "        mask[:, :, h, w + (mask_type == 'B'):] = 0\n",
        "        mask[:, :, h + 1:] = 0\n",
        "        self.register_buffer('mask', mask)\n",
        "\n",
        "    def forward(self, x):\n",
        "        self.weight.data *= self.mask\n",
        "        return super(MaskedConv2d, self).forward(x)"
      ],
      "execution_count": 0,
      "outputs": []
    },
    {
      "cell_type": "code",
      "metadata": {
        "id": "Jd5Sn8hvqOWC",
        "colab_type": "code",
        "colab": {}
      },
      "source": [
        "class MaskResBlock(nn.Module):\n",
        "    def __init__(self, h):\n",
        "        super(MaskResBlock, self).__init__()\n",
        "        self.net = nn.Sequential(\n",
        "            nn.ReLU(),\n",
        "            nn.Conv2d(2 * h, h, 1),\n",
        "            nn.BatchNorm2d(h),\n",
        "            nn.ReLU(),\n",
        "            MaskedConv2d('B', h, h, 3, 1, 1),\n",
        "            nn.BatchNorm2d(h),\n",
        "            nn.ReLU(),\n",
        "            nn.Conv2d(h, 2 * h, 1),\n",
        "            nn.BatchNorm2d(2 * h)\n",
        "        )\n",
        "\n",
        "    def forward(self, x):\n",
        "        return self.net(x) + x"
      ],
      "execution_count": 0,
      "outputs": []
    },
    {
      "cell_type": "code",
      "metadata": {
        "id": "nPr_a4xQqOWE",
        "colab_type": "code",
        "colab": {}
      },
      "source": [
        "class PixelCNN(nn.Module):\n",
        "    def __init__(self, h):\n",
        "        super(PixelCNN, self).__init__()\n",
        "        self.net = nn.Sequential(\n",
        "            MaskedConv2d('A', 3, 2 * h, 7, 1, 3),\n",
        "            MaskResBlock(h),\n",
        "            MaskResBlock(h),\n",
        "            MaskResBlock(h),\n",
        "            MaskResBlock(h),\n",
        "            MaskResBlock(h),\n",
        "            MaskResBlock(h),\n",
        "            MaskResBlock(h),\n",
        "            MaskResBlock(h),\n",
        "            MaskResBlock(h),\n",
        "            MaskResBlock(h),\n",
        "            MaskResBlock(h),\n",
        "            MaskResBlock(h),\n",
        "            nn.ReLU(),\n",
        "            nn.Conv2d(2 * h, 2 * h, 1),\n",
        "            nn.BatchNorm2d(2 * h),\n",
        "            nn.ReLU(),\n",
        "            nn.Conv2d(2 * h, 3 * 4, 1)\n",
        "        )\n",
        "\n",
        "    def forward(self, x):\n",
        "        n, c, h, w = x.shape\n",
        "        return self.net(x.float()).reshape(n, c, 4, h, w).permute(0, 1, 3, 4, 2)"
      ],
      "execution_count": 0,
      "outputs": []
    },
    {
      "cell_type": "code",
      "metadata": {
        "id": "dxF_pmqvqOV8",
        "colab_type": "code",
        "colab": {}
      },
      "source": [
        "train_loader = data.DataLoader(dataset=X_train, batch_size=128, shuffle=True, collate_fn=collate_fn)\n",
        "val_loader = data.DataLoader(dataset=X_test, batch_size=128, shuffle=False, collate_fn=collate_fn)"
      ],
      "execution_count": 0,
      "outputs": []
    },
    {
      "cell_type": "code",
      "metadata": {
        "id": "NTisJYsEqOWQ",
        "colab_type": "code",
        "colab": {}
      },
      "source": [
        "epochs_num = 7\n",
        "model = PixelCNN(h=128).to(device)\n",
        "optimizer = optim.Adam(model.parameters(), lr=1e-3)"
      ],
      "execution_count": 0,
      "outputs": []
    },
    {
      "cell_type": "code",
      "metadata": {
        "id": "wBLOUynrqOWJ",
        "colab_type": "code",
        "colab": {}
      },
      "source": [
        "def train():\n",
        "    loss_train, loss_val = [], []\n",
        "\n",
        "    for i in tnrange(epochs_num):\n",
        "        losses = []\n",
        "        model.train()\n",
        "        for xs in train_loader:\n",
        "            xs = xs.to(device)\n",
        "            optimizer.zero_grad()\n",
        "            loss = loss_function(model(xs), xs)\n",
        "            losses.append(loss.item())\n",
        "            loss.backward()\n",
        "            optimizer.step()\n",
        "\n",
        "        loss_train.append(np.array(losses).mean())\n",
        "\n",
        "        losses = []\n",
        "        model.eval()\n",
        "        with torch.no_grad():\n",
        "            for xs in val_loader:\n",
        "                xs = xs.to(device)\n",
        "                loss = loss_function(model(xs), xs)\n",
        "                losses.append(loss.item())\n",
        "\n",
        "        loss_val.append(np.array(losses).mean())\n",
        "\n",
        "    return loss_train, loss_val"
      ],
      "execution_count": 0,
      "outputs": []
    },
    {
      "cell_type": "code",
      "metadata": {
        "id": "5YoECj3JAC97",
        "colab_type": "code",
        "colab": {
          "base_uri": "https://localhost:8080/",
          "height": 66,
          "referenced_widgets": [
            "862d90f45d3a47d68d10ec7140280f7b",
            "7c18d2059a3b4600800a030a8538c046",
            "3662fe313a634fc1ab7c4bc325a5d3c1",
            "0dcdf32fd19e47ebafecd6b08b3959a6",
            "33657636e4564a6d9fa0434f07e3f5db",
            "7acc597211a44f8d85e14079040198f0",
            "85cb75f6046c4ffcab088e22484d3553",
            "fdd74138120b4e05b46bc2d7677d79ec"
          ]
        },
        "outputId": "f099c990-e078-4453-d98a-9ba6077abf72"
      },
      "source": [
        "loss_train, loss_val = train()"
      ],
      "execution_count": 13,
      "outputs": [
        {
          "output_type": "display_data",
          "data": {
            "application/vnd.jupyter.widget-view+json": {
              "model_id": "862d90f45d3a47d68d10ec7140280f7b",
              "version_minor": 0,
              "version_major": 2
            },
            "text/plain": [
              "HBox(children=(IntProgress(value=0, max=7), HTML(value='')))"
            ]
          },
          "metadata": {
            "tags": []
          }
        },
        {
          "output_type": "stream",
          "text": [
            "\n"
          ],
          "name": "stdout"
        }
      ]
    },
    {
      "cell_type": "code",
      "metadata": {
        "id": "Sm3jvQ889gDz",
        "colab_type": "code",
        "colab": {
          "base_uri": "https://localhost:8080/",
          "height": 295
        },
        "outputId": "0fb6e7c4-2bb8-4bb7-a920-b28cd496b5a0"
      },
      "source": [
        "plot_loss(loss_train, loss_val)"
      ],
      "execution_count": 14,
      "outputs": [
        {
          "output_type": "display_data",
          "data": {
            "image/png": "[encoded data removed]",
            "text/plain": [
              "<Figure size 432x288 with 1 Axes>"
            ]
          },
          "metadata": {
            "tags": []
          }
        }
      ]
    },
    {
      "cell_type": "code",
      "metadata": {
        "id": "tsnE2fQLqOWL",
        "colab_type": "code",
        "colab": {}
      },
      "source": [
        "def sample_images(model, n=24):\n",
        "    samples = np.zeros((n, 28, 28, 3), dtype=np.uint8)\n",
        "    with torch.no_grad():\n",
        "        for y in tnrange(28):\n",
        "            for x in range(28):\n",
        "                for c in range(3):\n",
        "                    xs = collate_fn(samples)\n",
        "                    ps = model(xs.cuda()).cpu()\n",
        "                    ps = F.softmax(ps, dim=4).numpy()\n",
        "                    for i in range(n):\n",
        "                        samples[i, y, x, c] = np.random.choice(4, p=ps[i, c, y, x])\n",
        "                        \n",
        "    return samples * 85"
      ],
      "execution_count": 0,
      "outputs": []
    },
    {
      "cell_type": "code",
      "metadata": {
        "id": "1WRRNR25qOWU",
        "colab_type": "code",
        "colab": {
          "base_uri": "https://localhost:8080/",
          "height": 66,
          "referenced_widgets": [
            "5963585ec31942aa988a07d9b445c0be",
            "ed9b7c0364a24265aec390e73b196f80",
            "3a0d15437e8e48c1bbabd9020a52646e",
            "6ab93f82d00548df95ae1c7ab30bd1b7",
            "124e179e23bb41aaaafda7e1798da781",
            "4b5190fb1cad418dbd19e6875b2af47a",
            "74468ed1908e446bbffc6ffab1480761",
            "d025e70cf8c941739f4a4978928a5c72"
          ]
        },
        "outputId": "70893294-3780-4382-f455-1b93c30454f0"
      },
      "source": [
        "model.eval()\n",
        "samples = sample_images(model)"
      ],
      "execution_count": 16,
      "outputs": [
        {
          "output_type": "display_data",
          "data": {
            "application/vnd.jupyter.widget-view+json": {
              "model_id": "5963585ec31942aa988a07d9b445c0be",
              "version_minor": 0,
              "version_major": 2
            },
            "text/plain": [
              "HBox(children=(IntProgress(value=0, max=28), HTML(value='')))"
            ]
          },
          "metadata": {
            "tags": []
          }
        },
        {
          "output_type": "stream",
          "text": [
            "\n"
          ],
          "name": "stdout"
        }
      ]
    },
    {
      "cell_type": "code",
      "metadata": {
        "id": "dvaHdg9GC8Cs",
        "colab_type": "code",
        "colab": {
          "base_uri": "https://localhost:8080/",
          "height": 385
        },
        "outputId": "81b0d7d0-4369-4459-86f2-70e4011ed77f"
      },
      "source": [
        "image = torchvision.utils.make_grid(torch.from_numpy(samples.swapaxes(3, 2).swapaxes(2, 1)).long(), nrow=3).cpu().numpy()\n",
        "plt.figure(figsize=(15,15))\n",
        "plt.imshow(np.transpose(image, (2, 1, 0)))"
      ],
      "execution_count": 22,
      "outputs": [
        {
          "output_type": "execute_result",
          "data": {
            "text/plain": [
              "<matplotlib.image.AxesImage at 0x7fb9ce7e3320>"
            ]
          },
          "metadata": {
            "tags": []
          },
          "execution_count": 22
        },
        {
          "output_type": "display_data",
          "data": {
            "image/png": "[encoded data removed]",
            "text/plain": [
              "<Figure size 1080x1080 with 1 Axes>"
            ]
          },
          "metadata": {
            "tags": []
          }
        }
      ]
    },
    {
      "cell_type": "code",
      "metadata": {
        "id": "hBIVDQ8OyEA4",
        "colab_type": "code",
        "colab": {}
      },
      "source": [
        "def receptive_field(model, X):\n",
        "    hs = 14\n",
        "    x = torch.tensor(X.numpy().astype(np.float32), requires_grad=True, device=device)\n",
        "    loss = loss_function(model(x)[:, 0, hs, hs].cpu(), X[:, 0, hs, hs].cpu()).backward()\n",
        "    \n",
        "    plt.imshow(x.grad.abs().sum(dim=(0, 1)).cpu().float().numpy())\n",
        "    plt.show()"
      ],
      "execution_count": 0,
      "outputs": []
    },
    {
      "cell_type": "code",
      "metadata": {
        "colab_type": "code",
        "outputId": "5a7223f0-17d9-4e31-b9e6-77ebd609f0fd",
        "id": "wJ1gX-tlqui2",
        "colab": {
          "base_uri": "https://localhost:8080/",
          "height": 265
        }
      },
      "source": [
        "model2 = PixelCNN(h=128).to(device)\n",
        "X = collate_fn(X_test[:100])\n",
        "receptive_field(model2, X)"
      ],
      "execution_count": 19,
      "outputs": [
        {
          "output_type": "display_data",
          "data": {
            "image/png": "[encoded data removed]",
            "text/plain": [
              "<Figure size 432x288 with 1 Axes>"
            ]
          },
          "metadata": {
            "tags": []
          }
        }
      ]
    }
  ]
}