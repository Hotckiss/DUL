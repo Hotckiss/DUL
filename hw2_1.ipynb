{
  "nbformat": 4,
  "nbformat_minor": 0,
  "metadata": {
    "colab": {
      "name": "hw2-1.ipynb",
      "provenance": [],
      "include_colab_link": true
    },
    "kernelspec": {
      "name": "python3",
      "display_name": "Python 3"
    },
    "accelerator": "GPU"
  },
  "cells": [
    {
      "cell_type": "markdown",
      "metadata": {
        "id": "view-in-github",
        "colab_type": "text"
      },
      "source": [
        "<a href=\"https://colab.research.google.com/github/Hotckiss/DUL/blob/hw2/hw2_1.ipynb\" target=\"_parent\"><img src=\"https://colab.research.google.com/assets/colab-badge.svg\" alt=\"Open In Colab\"/></a>"
      ]
    },
    {
      "cell_type": "code",
      "metadata": {
        "id": "w9zPwvbRyEvX",
        "colab_type": "code",
        "colab": {}
      },
      "source": [
        "import numpy as np\n",
        "import torch\n",
        "import random\n",
        "import os\n",
        "import matplotlib.pyplot as plt\n",
        "import matplotlib\n",
        "import torch \n",
        "import torch.nn as nn\n",
        "from tqdm.auto import tqdm\n",
        "from torch.distributions import Normal, MultivariateNormal\n",
        "import torch.nn.functional as F\n",
        "from sklearn.model_selection import train_test_split\n",
        "from torch.autograd import Variable"
      ],
      "execution_count": 0,
      "outputs": []
    },
    {
      "cell_type": "code",
      "metadata": {
        "id": "FTiIPoFEJu3T",
        "colab_type": "code",
        "colab": {}
      },
      "source": [
        "def sample_data():\n",
        "  count = 100000\n",
        "  rand = np.random.RandomState(0)\n",
        "  a = [[-1.5, 2.5]] + rand.randn(count // 3, 2) * 0.2\n",
        "  b = [[1.5, 2.5]] + rand.randn(count // 3, 2) * 0.2\n",
        "  c = np.c_[2 * np.cos(np.linspace(0, np.pi, count // 3)),\n",
        "  -np.sin(np.linspace(0, np.pi, count // 3))]\n",
        "\n",
        "  c += rand.randn(*c.shape) * 0.2\n",
        "  data_x = np.concatenate([a, b, c], axis=0)\n",
        "  data_y = np.array([0] * len(a) + [1] * len(b) + [2] * len(c))\n",
        "  perm = rand.permutation(len(data_x))\n",
        "  return data_x[perm], data_y[perm]"
      ],
      "execution_count": 0,
      "outputs": []
    },
    {
      "cell_type": "code",
      "metadata": {
        "id": "a8S7ARnXJvAq",
        "colab_type": "code",
        "colab": {}
      },
      "source": [
        "X, y  = sample_data()"
      ],
      "execution_count": 0,
      "outputs": []
    },
    {
      "cell_type": "code",
      "metadata": {
        "id": "jyPu3yTKJvDa",
        "colab_type": "code",
        "outputId": "2aa681b1-8846-4cbd-e212-4811d9d4534b",
        "colab": {
          "base_uri": "https://localhost:8080/",
          "height": 265
        }
      },
      "source": [
        "plt.scatter(X[:, 0], X[:, 1])\n",
        "plt.show()"
      ],
      "execution_count": 417,
      "outputs": [
        {
          "output_type": "display_data",
          "data": {
            "image/png": "[encoded data removed]",
            "text/plain": [
              "<Figure size 432x288 with 1 Axes>"
            ]
          },
          "metadata": {
            "tags": []
          }
        }
      ]
    },
    {
      "cell_type": "code",
      "metadata": {
        "id": "g4I1u_zvndlJ",
        "colab_type": "code",
        "colab": {}
      },
      "source": [
        "def loss_(y):\n",
        "    return -torch.mean(torch.log(y)) / 2"
      ],
      "execution_count": 0,
      "outputs": []
    },
    {
      "cell_type": "code",
      "metadata": {
        "id": "oQA6vySDJvK6",
        "colab_type": "code",
        "colab": {}
      },
      "source": [
        "def plot_loss(loss_train, loss_val):\n",
        "  plt.plot(loss_train, label = \"train\")\n",
        "  plt.plot(loss_val, label = \"validate\")\n",
        "  plt.legend()\n",
        "  plt.show()"
      ],
      "execution_count": 0,
      "outputs": []
    },
    {
      "cell_type": "code",
      "metadata": {
        "id": "yJmsRnfuJvF6",
        "colab_type": "code",
        "colab": {}
      },
      "source": [
        "class MyFlow(nn.Module):\n",
        "    def __init__(self, k=8):\n",
        "        super(MyFlow, self).__init__()\n",
        "        self.k = k\n",
        "        self.pi1_ = nn.Parameter(torch.randn(k))\n",
        "        self.softmax = nn.Softmax(dim=-1)\n",
        "        self.mu1_ = nn.Parameter(torch.randn(k))\n",
        "        self.sigma1_ = nn.Parameter(torch.randn(k))\n",
        "\n",
        "        self.hidden = nn.Sequential(nn.Linear(1, 128), nn.ReLU())\n",
        "        self.pi2_ = nn.Sequential(nn.Linear(128, self.k), nn.Softmax(dim=-1))\n",
        "        self.mu2_ = nn.Linear(128, self.k)\n",
        "        self.sigma2_ = nn.Linear(128, self.k)\n",
        "    \n",
        "    def get_x2_dist_params(self, x):\n",
        "        h = self.hidden(x)\n",
        "        \n",
        "        return self.pi2_(h), self.mu2_(h), torch.abs(self.sigma2_(h))\n",
        "\n",
        "    def get_dist_params(self, x):\n",
        "        x1, x2 = x[:, :1], x[:, 1:]\n",
        "        self.batch = x1.shape[0]\n",
        "\n",
        "        pi1, mu1, sigma1 = self.softmax(self.pi1_.repeat(self.batch, 1)), self.mu1_.repeat(self.batch, 1), torch.abs(self.sigma1_.repeat(self.batch, 1))\n",
        "\n",
        "        h = self.hidden(x1)\n",
        "        pi2, mu2, sigma2 = self.pi2_(h), self.mu2_(h), torch.abs(self.sigma2_(h))\n",
        "      \n",
        "        return pi1, mu1, sigma1, pi2, mu2, sigma2\n",
        "    \n",
        "    def forward(self, x):\n",
        "      x1, x2 = x[:, :1],x[:, 1:]\n",
        "      self.batch = x1.shape[0]\n",
        "\n",
        "      pi1, mu1, sigma1, pi2, mu2, sigma2 = self.get_dist_params(x)      \n",
        "\n",
        "      p1, p2 = torch.zeros(self.batch, 1), torch.zeros(self.batch, 1)\n",
        "\n",
        "      for i in range(self.k):\n",
        "        p1 += pi1[:,i:i+1] * (Normal(mu1[:,i:i+1].float(), (sigma1[:,i:i+1]).float()).log_prob(x1).exp())\n",
        "        p2 += pi2[:,i:i+1] * (Normal(mu2[:,i:i+1].float(), (sigma2[:,i:i+1]).float()).log_prob(x2).exp())\n",
        "        \n",
        "      return p1 * p2\n",
        "\n",
        "    def __call__(self, x):\n",
        "        return self.forward(x)"
      ],
      "execution_count": 0,
      "outputs": []
    },
    {
      "cell_type": "code",
      "metadata": {
        "id": "72rdtK1hPs3t",
        "colab_type": "code",
        "colab": {}
      },
      "source": [
        "X, y = sample_data()\n",
        "X_train, X_test, y_train, y_test = train_test_split(X, y, test_size=0.2)\n",
        "X_train, X_val, y_train, y_val = train_test_split(X_train, y_train, test_size=0.125)\n",
        "X_train, X_test, X_val, y_train, y_test, y_val = torch.FloatTensor(X_train), torch.FloatTensor(X_test), torch.FloatTensor(X_val), torch.FloatTensor(y_train), torch.FloatTensor(y_test), torch.FloatTensor(y_val)"
      ],
      "execution_count": 0,
      "outputs": []
    },
    {
      "cell_type": "code",
      "metadata": {
        "id": "u3F5tzjtJvNV",
        "colab_type": "code",
        "colab": {}
      },
      "source": [
        "model = MyFlow().float()\n",
        "batch_size = 512\n",
        "epochs_cnt = 16\n",
        "optimizer = torch.optim.Adam(model.parameters(), lr=1e-3)"
      ],
      "execution_count": 0,
      "outputs": []
    },
    {
      "cell_type": "code",
      "metadata": {
        "id": "yJGymRs4JvIT",
        "colab_type": "code",
        "colab": {}
      },
      "source": [
        "def train():\n",
        "    train_loader = torch.utils.data.DataLoader(X_train, batch_size=batch_size, shuffle=True)\n",
        "    test_loader = torch.utils.data.DataLoader(X_test, batch_size=batch_size)\n",
        "    val_loader = torch.utils.data.DataLoader(X_val, batch_size=batch_size)\n",
        "    loss_train, loss_val = [], []\n",
        "\n",
        "    for epoch in range(epochs_cnt):\n",
        "        loss_it = []\n",
        "        \n",
        "        model.train()\n",
        "        for batch in train_loader:\n",
        "            out = model(batch)\n",
        "            loss = loss_(out)\n",
        "            loss.backward()\n",
        "            optimizer.step()\n",
        "            optimizer.zero_grad()\n",
        "            loss_it.append(loss.detach().numpy())\n",
        "        loss_train.append(np.mean(loss_it))\n",
        "        \n",
        "        model.eval()\n",
        "        with torch.no_grad():\n",
        "            loss_it = []\n",
        "            for batch in val_loader:\n",
        "                out = model(batch)\n",
        "                loss = loss_(out)\n",
        "                loss_it.append(loss.detach().numpy())\n",
        "            loss_val.append(np.mean(loss_it))\n",
        "\n",
        "        print(\"It: \" + str(epoch) + \" Train loss: \" + str(loss_train[-1]) + \" Val loss: \" + str(loss_val[-1]))\n",
        "\n",
        "    loss_values = []\n",
        "    for batch in test_loader:\n",
        "        out = model(batch)\n",
        "        loss = loss_(out)\n",
        "        loss_values.append(loss.item())\n",
        "\n",
        "    print(\"Test loss: \" + str(np.mean(np.array(loss_values))))\n",
        "    return loss_train, loss_val"
      ],
      "execution_count": 0,
      "outputs": []
    },
    {
      "cell_type": "code",
      "metadata": {
        "id": "y5Zg8uxDJvP6",
        "colab_type": "code",
        "outputId": "1d9b44b0-2f0f-4daf-c50a-4a2689c2f11e",
        "colab": {
          "base_uri": "https://localhost:8080/",
          "height": 554
        }
      },
      "source": [
        "loss_train, loss_val = train()\n",
        "plot_loss(loss_train, loss_val)"
      ],
      "execution_count": 424,
      "outputs": [
        {
          "output_type": "stream",
          "text": [
            "It: 0 Train loss: 2.0542295 Val loss: 1.4833407\n",
            "It: 1 Train loss: 1.2645944 Val loss: 1.155091\n",
            "It: 2 Train loss: 1.0790228 Val loss: 1.0046374\n",
            "It: 3 Train loss: 0.96052766 Val loss: 0.9060923\n",
            "It: 4 Train loss: 0.8792835 Val loss: 0.8388413\n",
            "It: 5 Train loss: 0.81653374 Val loss: 0.7865957\n",
            "It: 6 Train loss: 0.77060336 Val loss: 0.7405673\n",
            "It: 7 Train loss: 0.73057634 Val loss: 0.71292675\n",
            "It: 8 Train loss: 0.70270145 Val loss: 0.68727463\n",
            "It: 9 Train loss: 0.68844694 Val loss: 0.68042564\n",
            "It: 10 Train loss: 0.68495643 Val loss: 0.67929554\n",
            "It: 11 Train loss: 0.68415374 Val loss: 0.6763111\n",
            "It: 12 Train loss: 0.68158084 Val loss: 0.6751819\n",
            "It: 13 Train loss: 0.68020976 Val loss: 0.6765871\n",
            "It: 14 Train loss: 0.67972004 Val loss: 0.6742616\n",
            "It: 15 Train loss: 0.6785506 Val loss: 0.6729217\n",
            "Test loss: 0.6765942364931107\n"
          ],
          "name": "stdout"
        },
        {
          "output_type": "display_data",
          "data": {
            "image/png": "[encoded data removed]",
            "text/plain": [
              "<Figure size 432x288 with 1 Axes>"
            ]
          },
          "metadata": {
            "tags": []
          }
        }
      ]
    },
    {
      "cell_type": "code",
      "metadata": {
        "id": "T8lFNEIJJvUi",
        "colab_type": "code",
        "outputId": "f1077152-524c-4065-8926-54d68068efd6",
        "colab": {
          "base_uri": "https://localhost:8080/",
          "height": 285
        }
      },
      "source": [
        "space = np.linspace(-4, 4, 100)\n",
        "samples = torch.from_numpy(np.array(np.meshgrid(space, space)).T.reshape([-1, 2])).float()\n",
        "pdf = model(samples).cpu().detach().numpy().reshape(100, 100)\n",
        "plt.imshow(np.rot90(pdf, 1))"
      ],
      "execution_count": 425,
      "outputs": [
        {
          "output_type": "execute_result",
          "data": {
            "text/plain": [
              "<matplotlib.image.AxesImage at 0x7ff58f6dc390>"
            ]
          },
          "metadata": {
            "tags": []
          },
          "execution_count": 425
        },
        {
          "output_type": "display_data",
          "data": {
            "image/png": "[encoded data removed]",
            "text/plain": [
              "<Figure size 432x288 with 1 Axes>"
            ]
          },
          "metadata": {
            "tags": []
          }
        }
      ]
    },
    {
      "cell_type": "code",
      "metadata": {
        "id": "FI0Te37rSpVq",
        "colab_type": "code",
        "outputId": "25d2993f-460c-40ec-bb7d-5f6de48236f0",
        "colab": {
          "base_uri": "https://localhost:8080/",
          "height": 265
        }
      },
      "source": [
        "pi1, mu1, sigma1, pi2, mu2, sigma2 = model.get_dist_params(X_train)\n",
        "      \n",
        "z1, z2 = torch.zeros(model.batch,1), torch.zeros(model.batch,1)\n",
        "      \n",
        "x1, x2 = X_train[:, :1], X_train[:, 1:]\n",
        "      \n",
        "for i in range(model.k):\n",
        "    z1 += pi1[:,i:i+1] * (Normal(mu1[:,i:i+1].float(),(sigma1[:,i:i+1]).float()).cdf(x1))\n",
        "    z2 += pi2[:,i:i+1] * (Normal(mu2[:,i:i+1].float(),(sigma2[:,i:i+1]).float()).cdf(x2))\n",
        "\n",
        "plt.figure()\n",
        "plt.scatter(z1[:, 0].detach().numpy(), z2[:, 0].detach().numpy(), c=y_train)\n",
        "plt.show()"
      ],
      "execution_count": 426,
      "outputs": [
        {
          "output_type": "display_data",
          "data": {
            "image/png": "[encoded data removed]",
            "text/plain": [
              "<Figure size 432x288 with 1 Axes>"
            ]
          },
          "metadata": {
            "tags": []
          }
        }
      ]
    },
    {
      "cell_type": "code",
      "metadata": {
        "id": "qql5s720WY21",
        "colab_type": "code",
        "colab": {}
      },
      "source": [
        "def probs_sample(pi, sigmasq, mu, samples):\n",
        "  N, K = pi.shape\n",
        "  out = Variable(torch.zeros(N, samples, 1))\n",
        "  for i in range(N):\n",
        "    for j in range(samples):\n",
        "      u = np.random.uniform()\n",
        "      prob_sum = 0\n",
        "      for k in range(K):\n",
        "        prob_sum += pi.data[i, k]\n",
        "        if u < prob_sum:\n",
        "          sample = np.random.normal(mu.data[i, k], np.sqrt(sigmasq.data[i, k]))\n",
        "          out[i, j, 0] = sample\n",
        "          break\n",
        "  return out"
      ],
      "execution_count": 0,
      "outputs": []
    },
    {
      "cell_type": "code",
      "metadata": {
        "id": "uY8qI_xxWbqO",
        "colab_type": "code",
        "outputId": "91aa51e2-c7e2-4b22-bd6e-a718e9fdb44a",
        "colab": {
          "base_uri": "https://localhost:8080/",
          "height": 267
        }
      },
      "source": [
        "pi1, mu1, sigma1 = model.softmax(model.pi1_.view(1,-1)), model.mu1_.view(1,-1), torch.abs(model.sigma1_).view(1,-1)\n",
        "p1 = probs_sample(pi1, sigma1, mu1, samples=3000)\n",
        "pi2, mu2, sigma2 = model.get_x2_dist_params(p1)\n",
        "p2 = probs_sample(pi2[0], sigma2[0], mu2[0], samples=1)\n",
        "plt.figure()\n",
        "plt.scatter(p1, p2)\n",
        "plt.show()"
      ],
      "execution_count": 429,
      "outputs": [
        {
          "output_type": "display_data",
          "data": {
            "image/png": "[encoded data removed]",
            "text/plain": [
              "<Figure size 432x288 with 1 Axes>"
            ]
          },
          "metadata": {
            "tags": []
          }
        }
      ]
    }
  ]
}