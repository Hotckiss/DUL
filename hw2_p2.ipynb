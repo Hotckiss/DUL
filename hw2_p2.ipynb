{
  "nbformat": 4,
  "nbformat_minor": 0,
  "metadata": {
    "colab": {
      "name": "hw2_p2.ipynb",
      "provenance": [],
      "include_colab_link": true
    },
    "kernelspec": {
      "name": "python3",
      "display_name": "Python 3"
    },
    "accelerator": "GPU"
  },
  "cells": [
    {
      "cell_type": "markdown",
      "metadata": {
        "id": "view-in-github",
        "colab_type": "text"
      },
      "source": [
        "<a href=\"https://colab.research.google.com/github/Hotckiss/DUL/blob/hw22/hw2_p2.ipynb\" target=\"_parent\"><img src=\"https://colab.research.google.com/assets/colab-badge.svg\" alt=\"Open In Colab\"/></a>"
      ]
    },
    {
      "cell_type": "code",
      "metadata": {
        "id": "aPGJJ8eGh5a9",
        "colab_type": "code",
        "colab": {}
      },
      "source": [
        "import numpy as np\n",
        "import torch\n",
        "import random\n",
        "import os\n",
        "import matplotlib.pyplot as plt\n",
        "import matplotlib\n",
        "import torch \n",
        "import torch.nn as nn\n",
        "from tqdm.auto import tqdm\n",
        "from torch.distributions import Normal, MultivariateNormal, Uniform\n",
        "import torch.nn.functional as F\n",
        "from sklearn.model_selection import train_test_split\n",
        "from torch.autograd import Variable\n",
        "import pickle\n",
        "from torch.utils.data import DataLoader\n",
        "import torchvision\n",
        "from matplotlib import pyplot as plt"
      ],
      "execution_count": 0,
      "outputs": []
    },
    {
      "cell_type": "code",
      "metadata": {
        "id": "XWyUKpF5kfXi",
        "colab_type": "code",
        "outputId": "24f06643-256a-4693-f7a0-799fbbb41afb",
        "colab": {
          "base_uri": "https://localhost:8080/",
          "height": 34
        }
      },
      "source": [
        "def make_reproducible(seed, make_cuda_reproducible):\n",
        "    random.seed(seed)\n",
        "    os.environ['PYTHONHASHSEED'] = str(seed)\n",
        "    np.random.seed(seed)\n",
        "    torch.manual_seed(seed)\n",
        "    if make_cuda_reproducible:\n",
        "        torch.backends.cudnn.deterministic = True\n",
        "        torch.backends.cudnn.benchmark = False\n",
        "\n",
        "SEED = 2341\n",
        "make_reproducible(SEED, False)\n",
        "DEVICE = torch.device('cuda' if torch.cuda.is_available() else 'cpu')\n",
        "print(DEVICE)"
      ],
      "execution_count": 2,
      "outputs": [
        {
          "output_type": "stream",
          "text": [
            "cuda\n"
          ],
          "name": "stdout"
        }
      ]
    },
    {
      "cell_type": "code",
      "metadata": {
        "id": "RKL-MNZJkjFR",
        "colab_type": "code",
        "outputId": "1270a141-40fb-43ef-9f3f-97a3bb32de58",
        "colab": {
          "base_uri": "https://localhost:8080/",
          "height": 68
        }
      },
      "source": [
        "with open('hw2_q2.pkl', 'rb') as f:\n",
        "    DATA = pickle.load(f)\n",
        "print(DATA.keys())\n",
        "DATA['train'] = torch.FloatTensor(DATA['train']).permute(0, 3, 1, 2)\n",
        "DATA['test'] = torch.FloatTensor(DATA['test']).permute(0, 3, 1, 2)\n",
        "print(DATA['train'].shape)\n",
        "print(DATA['test'].shape)"
      ],
      "execution_count": 3,
      "outputs": [
        {
          "output_type": "stream",
          "text": [
            "dict_keys(['train', 'test'])\n",
            "torch.Size([20000, 3, 32, 32])\n",
            "torch.Size([6838, 3, 32, 32])\n"
          ],
          "name": "stdout"
        }
      ]
    },
    {
      "cell_type": "code",
      "metadata": {
        "id": "b_r5JXFInJW6",
        "colab_type": "code",
        "colab": {}
      },
      "source": [
        "def show(images):\n",
        "    images = images.permute(0, 2, 3, 1)\n",
        "    fig=plt.figure(figsize=(8, 8))\n",
        "    columns = images.shape[0]\n",
        "    rows = 1\n",
        "    for i, img in enumerate(images):\n",
        "        fig.add_subplot(rows, columns, i + 1)\n",
        "        plt.imshow(img / 3)"
      ],
      "execution_count": 0,
      "outputs": []
    },
    {
      "cell_type": "code",
      "metadata": {
        "id": "jIVlfLbFnJpT",
        "colab_type": "code",
        "outputId": "59de1e08-1128-4bee-e498-0aa6fcc6061a",
        "colab": {
          "base_uri": "https://localhost:8080/",
          "height": 128
        }
      },
      "source": [
        "show(DATA['train'][:5])"
      ],
      "execution_count": 5,
      "outputs": [
        {
          "output_type": "display_data",
          "data": {
            "image/png": "[encoded data removed]",
            "text/plain": [
              "<Figure size 576x576 with 5 Axes>"
            ]
          },
          "metadata": {
            "tags": []
          }
        }
      ]
    },
    {
      "cell_type": "code",
      "metadata": {
        "id": "iwqO4tt2nJrP",
        "colab_type": "code",
        "colab": {}
      },
      "source": [
        "class ResNetBlock(nn.Module):\n",
        "    def __init__(self, ch_in, n_filters=256, n_blocks=8):\n",
        "        super(ResNetBlock,self).__init__()\n",
        "        ch_out = ch_in * 2\n",
        "        self.n_blocks = n_blocks\n",
        "        self.conv1 = nn.Conv2d(ch_in, n_filters, kernel_size=(3, 3), stride=(1, 1), padding=2)\n",
        "        self.batch_norm1 = nn.BatchNorm2d(n_filters)\n",
        "        get_ht_model = lambda: nn.Sequential(\n",
        "            nn.Conv2d(n_filters, n_filters, kernel_size=(1, 1), stride=(1, 1), padding=0),\n",
        "            nn.BatchNorm2d(n_filters),\n",
        "            nn.ReLU(),\n",
        "            nn.Conv2d(n_filters, n_filters, kernel_size=(3, 3), stride=(1, 1), padding=1),\n",
        "            nn.BatchNorm2d(n_filters)\n",
        "        )\n",
        "        get_h_model = lambda: nn.Sequential(\n",
        "            nn.ReLU(),\n",
        "            nn.Conv2d(n_filters, n_filters, kernel_size=(1,1), stride=(1, 1), padding=0),\n",
        "            nn.BatchNorm2d(n_filters)\n",
        "        )\n",
        "        self._h_model = torch.nn.ModuleList([get_ht_model() for _ in range(n_blocks)])\n",
        "        self.h_model = torch.nn.ModuleList([get_h_model() for _ in range(n_blocks)])\n",
        "        self.conv2 = nn.Conv2d(n_filters, ch_out, kernel_size=(3, 3), stride=(1, 1))\n",
        "        self.batch_norm2 = nn.BatchNorm2d(ch_out)\n",
        "    \n",
        "    def forward(self, x):\n",
        "        h = self.conv1(x)\n",
        "        h = self.batch_norm1(h)\n",
        "        for i in range(self.n_blocks):\n",
        "            _h = self._h_model[i](h)\n",
        "            h = self.h_model[i](_h)\n",
        "            h = (h + _h)\n",
        "        h = F.relu(h)\n",
        "        x = self.conv2(h)\n",
        "        x = self.batch_norm2(x)\n",
        "        return x"
      ],
      "execution_count": 0,
      "outputs": []
    },
    {
      "cell_type": "code",
      "metadata": {
        "id": "doWd0HGSnJts",
        "colab_type": "code",
        "colab": {}
      },
      "source": [
        "class AffineCoupling(nn.Module):\n",
        "    def __init__(self, ch_in):\n",
        "        super(AffineCoupling, self).__init__()\n",
        "        self.resnet = ResNetBlock(ch_in)\n",
        "    \n",
        "    def forward(self, x, masks):\n",
        "        (x1, x2) = x\n",
        "        y1 = x1\n",
        "        log_s, t = torch.chunk(self.resnet(x1), 2, dim=1)\n",
        "        y2 = torch.exp(log_s) * (x2 + t * masks[1])\n",
        "        log_det = log_s.view(x1.shape[0], -1).sum(dim=1)\n",
        "        return ((y1, y2), log_det)\n",
        "\n",
        "    def reverse(self, y, mask):\n",
        "        (y1, y2) = y\n",
        "        x1 = y1\n",
        "        log_s, t = torch.chunk(self.resnet(x1), 2, dim=1)\n",
        "        x2 = y2 * torch.exp(-log_s) - t * (1 - mask[1])\n",
        "        return (x1, x2)"
      ],
      "execution_count": 0,
      "outputs": []
    },
    {
      "cell_type": "code",
      "metadata": {
        "id": "GTR_cmuZnJwI",
        "colab_type": "code",
        "colab": {}
      },
      "source": [
        "class CelebA(nn.Module):\n",
        "  def __init__(self, ch_in):\n",
        "      super(CelebA, self).__init__()\n",
        "      self.prior = Normal(torch.tensor(0.).to(DEVICE), torch.tensor(1.).to(DEVICE))\n",
        "      self.couplings1 = torch.nn.ModuleList([AffineCoupling(ch_in) for i in range(4)])\n",
        "      self.couplings2 = torch.nn.ModuleList([AffineCoupling(ch_in * 4) for i in range(3)])\n",
        "      self.couplings3 = torch.nn.ModuleList([AffineCoupling(ch_in * 4) for i in range(3)])\n",
        "      self.couplings4 = torch.nn.ModuleList([AffineCoupling(ch_in * 16) for i in range(3)])\n",
        "      self.couplings5 = torch.nn.ModuleList([AffineCoupling(ch_in * 16) for i in range(3)])\n",
        "\n",
        "  def build_mask(self, size, config=1.):\n",
        "      mask = np.arange(size).reshape(-1, 1) + np.arange(size)\n",
        "      mask = np.mod(config + mask, 2)\n",
        "      mask = mask.reshape(-1, 1, size, size)\n",
        "      return torch.tensor(mask.astype('float32'))\n",
        "\n",
        "  def flip_tuple(self, x, masks):\n",
        "      (x1, x2) = x\n",
        "      (mask1, mask2) = masks\n",
        "      return (x2, x1), (mask2, mask1)\n",
        "\n",
        "  def checkerboard_split(self, x):\n",
        "      mask = self.build_mask(x.shape[2], config=1.).to(DEVICE)\n",
        "      return (x * mask, x * (1 - mask)), (mask, 1 - mask)\n",
        "\n",
        "  def squeeze(self, x):\n",
        "      x = x.reshape(-1, 4 * x.shape[1], x.shape[2] // 2, x.shape[3] // 2)\n",
        "      return x\n",
        "  \n",
        "  def unsqueeze(self, x):\n",
        "      x = x.reshape(-1, x.shape[1] // 4, x.shape[2] * 2, x.shape[3] * 2)\n",
        "      return x\n",
        "\n",
        "  def channel_split(self, x):\n",
        "      mask = torch.zeros((1, x.shape[1], x.shape[2], x.shape[3])).to(DEVICE)\n",
        "      mask[:, :mask.shape[1] // 2, :, :] = 1\n",
        "      return (x * mask, x * (1 - mask)), (mask, 1 - mask)\n",
        "\n",
        "  def forward(self, x):\n",
        "      log_det = 0\n",
        "\n",
        "      x, masks = self.checkerboard_split(x) \n",
        "      for i in range(4):\n",
        "          x, log_det_temp = self.couplings1[i](x, masks)\n",
        "          log_det += log_det_temp\n",
        "          x, masks = self.flip_tuple(x, masks)\n",
        "      x = x[0] + x[1]\n",
        "      \n",
        "      x = self.squeeze(x)\n",
        "      \n",
        "      x, masks = self.channel_split(x)\n",
        "      for i in range(3):\n",
        "          x, log_det_temp = self.couplings2[i](x, masks)\n",
        "          log_det += log_det_temp\n",
        "          x, masks = self.flip_tuple(x, masks)\n",
        "      x = x[0] + x[1]\n",
        "\n",
        "      x, masks = self.checkerboard_split(x)\n",
        "      for i in range(3):\n",
        "          x, log_det_temp = self.couplings3[i](x, masks)\n",
        "          log_det += log_det_temp\n",
        "          x, masks = self.flip_tuple(x, masks)\n",
        "      x = x[0] + x[1]\n",
        "      \n",
        "      x = self.squeeze(x)\n",
        "      \n",
        "      x, masks = self.channel_split(x)\n",
        "      for i in range(3):\n",
        "          x, log_det_temp = self.couplings4[i](x, masks)\n",
        "          log_det += log_det_temp\n",
        "          x, masks = self.flip_tuple(x, masks)\n",
        "      x = x[0] + x[1]\n",
        "\n",
        "      x, masks = self.checkerboard_split(x)\n",
        "      for i in range(3):\n",
        "          x, log_det_temp = self.couplings5[i](x, masks)\n",
        "          log_det += log_det_temp\n",
        "          x, masks = self.flip_tuple(x, masks)\n",
        "      x = x[0] + x[1]\n",
        "\n",
        "      return x, log_det\n",
        "    \n",
        "  def log_prob(self, x):\n",
        "      z, log_det_J = self.forward(x)\n",
        "      return torch.sum(self.prior.log_prob(z), dim=(1, 2, 3)) + log_det_J"
      ],
      "execution_count": 0,
      "outputs": []
    },
    {
      "cell_type": "code",
      "metadata": {
        "id": "K5KbV6V1nJ0x",
        "colab_type": "code",
        "colab": {}
      },
      "source": [
        "def plot_losses(losses, val_losses):\n",
        "    plt.plot(losses, label = \"train_loss\")\n",
        "    plt.plot(val_losses, label = \"val_loss\")\n",
        "    plt.legend()\n",
        "    plt.show()"
      ],
      "execution_count": 0,
      "outputs": []
    },
    {
      "cell_type": "code",
      "metadata": {
        "id": "FY_OLpKiG3nv",
        "colab_type": "code",
        "colab": {}
      },
      "source": [
        "dim_factor = torch.FloatTensor([3 * 32 * 32]).to(DEVICE)\n",
        "log_factor = torch.log(torch.Tensor([2])).to(DEVICE)"
      ],
      "execution_count": 0,
      "outputs": []
    },
    {
      "cell_type": "code",
      "metadata": {
        "id": "vr6xabtmGwbT",
        "colab_type": "code",
        "colab": {}
      },
      "source": [
        "def loss_func(log_prob):\n",
        "    return -torch.mean(log_prob) / (dim_factor * log_factor)"
      ],
      "execution_count": 0,
      "outputs": []
    },
    {
      "cell_type": "code",
      "metadata": {
        "id": "w8G4uYRrnJ2o",
        "colab_type": "code",
        "colab": {}
      },
      "source": [
        "epochs_cnt = 1\n",
        "model = CelebA(3).to(DEVICE)\n",
        "optimizer = torch.optim.Adam(model.parameters(),lr=1e-4, weight_decay=0.0001)"
      ],
      "execution_count": 0,
      "outputs": []
    },
    {
      "cell_type": "code",
      "metadata": {
        "id": "KigC0Ja2GlZz",
        "colab_type": "code",
        "colab": {}
      },
      "source": [
        "train_data=DATA['train'][:160]\n",
        "test_data=DATA['test'][:32]"
      ],
      "execution_count": 0,
      "outputs": []
    },
    {
      "cell_type": "code",
      "metadata": {
        "id": "PHc2vOLunJyg",
        "colab_type": "code",
        "colab": {}
      },
      "source": [
        "def train():\n",
        "    train_loader = DataLoader(train_data, batch_size=16, shuffle=True)\n",
        "    val_iter = DataLoader(test_data, batch_size=16, shuffle=False)\n",
        "    \n",
        "    loss_train, loss_val = [], []\n",
        "    for epoch in range(epochs_cnt):\n",
        "        losses = []\n",
        "        \n",
        "        model.train()\n",
        "        for batch in train_loader:\n",
        "            batch = batch.to(DEVICE)\n",
        "            loss = loss_func(model.log_prob(batch))\n",
        "            loss.backward()\n",
        "            optimizer.step()\n",
        "            optimizer.zero_grad()\n",
        "            losses.append(loss.data.cpu().numpy())\n",
        "        loss_train.append(np.mean(losses))\n",
        "        \n",
        "        model.eval()\n",
        "        with torch.no_grad():\n",
        "            losses = []\n",
        "            for item in val_iter:\n",
        "                batch = batch.to(DEVICE)\n",
        "                val_loss = loss_func(model.log_prob(batch))\n",
        "                losses.append(val_loss.data.cpu().numpy())\n",
        "            loss_val.append(np.mean(losses))\n",
        "\n",
        "        print(\"It: \" + str(epoch) + \" Train loss: \" + str(loss_train[-1]) + \" Val loss: \" + str(loss_val[-1]))\n",
        "    return loss_train, loss_val"
      ],
      "execution_count": 0,
      "outputs": []
    },
    {
      "cell_type": "code",
      "metadata": {
        "id": "qSbvtbNynlG3",
        "colab_type": "code",
        "outputId": "97e759eb-9b0c-4dc4-970a-ec8c2382a615",
        "colab": {
          "base_uri": "https://localhost:8080/",
          "height": 282
        }
      },
      "source": [
        "loss_train, loss_val = train()\n",
        "plot_losses(loss_train, loss_val)"
      ],
      "execution_count": 15,
      "outputs": [
        {
          "output_type": "stream",
          "text": [
            "It: 0 Train loss: nan Val loss: nan\n"
          ],
          "name": "stdout"
        },
        {
          "output_type": "display_data",
          "data": {
            "image/png": "[encoded data removed]",
            "text/plain": [
              "<Figure size 432x288 with 1 Axes>"
            ]
          },
          "metadata": {
            "tags": []
          }
        }
      ]
    },
    {
      "cell_type": "code",
      "metadata": {
        "id": "x5hnUgcQnlJr",
        "colab_type": "code",
        "colab": {}
      },
      "source": [
        ""
      ],
      "execution_count": 0,
      "outputs": []
    },
    {
      "cell_type": "code",
      "metadata": {
        "id": "bhE0uUG3nlMY",
        "colab_type": "code",
        "colab": {}
      },
      "source": [
        ""
      ],
      "execution_count": 0,
      "outputs": []
    },
    {
      "cell_type": "code",
      "metadata": {
        "id": "vEmR5SJHnlOr",
        "colab_type": "code",
        "colab": {}
      },
      "source": [
        ""
      ],
      "execution_count": 0,
      "outputs": []
    }
  ]
}