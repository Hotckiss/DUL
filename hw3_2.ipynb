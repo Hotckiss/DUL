{
  "nbformat": 4,
  "nbformat_minor": 0,
  "metadata": {
    "colab": {
      "name": "hw3-2.ipynb",
      "provenance": [],
      "include_colab_link": true
    },
    "kernelspec": {
      "name": "python3",
      "display_name": "Python 3"
    },
    "accelerator": "GPU"
  },
  "cells": [
    {
      "cell_type": "markdown",
      "metadata": {
        "id": "view-in-github",
        "colab_type": "text"
      },
      "source": [
        "<a href=\"https://colab.research.google.com/github/Hotckiss/DUL/blob/hw3/hw3_2.ipynb\" target=\"_parent\"><img src=\"https://colab.research.google.com/assets/colab-badge.svg\" alt=\"Open In Colab\"/></a>"
      ]
    },
    {
      "cell_type": "code",
      "metadata": {
        "id": "9Zqd0eS_4yrq",
        "colab_type": "code",
        "colab": {}
      },
      "source": [
        "import numpy as np\n",
        "import matplotlib.pyplot as plt\n",
        "import matplotlib.gridspec as gridspec\n",
        "import torch\n",
        "import torch.nn as nn\n",
        "import torch.nn.functional as F\n",
        "import torch.optim as optim\n",
        "import torch.nn.utils as utils\n",
        "from torch.optim import Adam"
      ],
      "execution_count": 0,
      "outputs": []
    },
    {
      "cell_type": "code",
      "metadata": {
        "id": "R3me5xGc5FB_",
        "colab_type": "code",
        "colab": {}
      },
      "source": [
        "def sample_data_3():\n",
        "    count = 100000\n",
        "    rand = np.random.RandomState(0)\n",
        "    a = [[-1.5, 2.5]] + rand.randn(count // 3, 2) * 0.2\n",
        "    b = [[1.5, 2.5]] + rand.randn(count // 3 + 1, 2) * 0.2\n",
        "    c = np.c_[2 * np.cos(np.linspace(0, np.pi, count // 3)),\n",
        "    -np.sin(np.linspace(0, np.pi, count // 3))]\n",
        "    c += rand.randn(*c.shape) * 0.2\n",
        "    data_x = np.concatenate([a, b, c], axis=0)\n",
        "    data_y = np.array([0] * len(a) + [1] * len(b) + [2] * len(c))\n",
        "    perm = rand.permutation(len(data_x))\n",
        "    return data_x[perm], data_y[perm]"
      ],
      "execution_count": 0,
      "outputs": []
    },
    {
      "cell_type": "code",
      "metadata": {
        "id": "JCOijqQr5FNq",
        "colab_type": "code",
        "colab": {
          "base_uri": "https://localhost:8080/",
          "height": 265
        },
        "outputId": "523d1a1b-1bfd-47fd-afa2-ddd224b67153"
      },
      "source": [
        "x, y = sample_data_3()\n",
        "n_samples = x.shape[0]\n",
        "idx = np.random.permutation(n_samples)\n",
        "train_size = int(n_samples * 0.8)\n",
        "x_train, y_train, x_test, y_test = x[idx[:train_size]], y[idx[:train_size]], x[idx[train_size:]], y[idx[train_size:]]\n",
        "test_size = x_test.shape[0]\n",
        "\n",
        "plt.scatter(x_train[y_train == 0, 0], x_train[y_train == 0, 1])\n",
        "plt.scatter(x_train[y_train == 1, 0], x_train[y_train == 1, 1])\n",
        "plt.scatter(x_train[y_train == 2, 0], x_train[y_train == 2, 1])\n",
        "plt.show()"
      ],
      "execution_count": 3,
      "outputs": [
        {
          "output_type": "display_data",
          "data": {
            "image/png": "[encoded data removed]",
            "text/plain": [
              "<Figure size 432x288 with 1 Axes>"
            ]
          },
          "metadata": {
            "tags": []
          }
        }
      ]
    },
    {
      "cell_type": "code",
      "metadata": {
        "id": "QmsroJeZ8GkI",
        "colab_type": "code",
        "colab": {}
      },
      "source": [
        "def MyLoss(x, mu, var):\n",
        "    log_prob = torch.sum(-0.5 * (torch.log(np.pi * 2 * var) + torch.pow(x - mu, 2) / var), dim=1, keepdim=True)\n",
        "    return -torch.sum(log_prob, dim=1, keepdim=True)"
      ],
      "execution_count": 0,
      "outputs": []
    },
    {
      "cell_type": "code",
      "metadata": {
        "id": "zbW-Pyop8GZT",
        "colab_type": "code",
        "colab": {}
      },
      "source": [
        "def KLDiv(mu, var):\n",
        "    return -0.5 * torch.sum((1.0 + torch.log(var) - torch.pow(mu, 2) - var), dim=1, keepdim=True)"
      ],
      "execution_count": 0,
      "outputs": []
    },
    {
      "cell_type": "code",
      "metadata": {
        "id": "42aqthDlC0cp",
        "colab_type": "code",
        "colab": {}
      },
      "source": [
        "def sample(decoder, n_samples=100000):\n",
        "    z = torch.randn([n_samples, 2]).cuda()\n",
        "    mu_x, var_x = decoder(z)\n",
        "    x = torch.randn([n_samples, 2]).cuda() * torch.sqrt(var_x) + mu_x\n",
        "    return x, mu_x"
      ],
      "execution_count": 0,
      "outputs": []
    },
    {
      "cell_type": "code",
      "metadata": {
        "id": "INSuq5c4Ep82",
        "colab_type": "code",
        "colab": {}
      },
      "source": [
        "def plot_data(train, validate, title_):\n",
        "    ax = plt.subplot(111)\n",
        "    ax.plot(np.arange(1, len(train) + 1),train, label='train')\n",
        "    ax.plot(np.arange(1, len(validate) + 1) * val_steps, validate, label='val')\n",
        "    ax.set_xlabel(\"n\")\n",
        "    ax.set_title(title_)\n",
        "    ax.legend()"
      ],
      "execution_count": 0,
      "outputs": []
    },
    {
      "cell_type": "code",
      "metadata": {
        "id": "jmLJfRn4KAmk",
        "colab_type": "code",
        "colab": {}
      },
      "source": [
        "def plot_samples(x, mu_x):\n",
        "    x = x.cpu().data.numpy()\n",
        "    mu_x = mu_x.cpu().data.numpy()\n",
        "    \n",
        "    ax = plt.subplot(111)\n",
        "    ax.scatter(x[:, 0], x[:, 1], label='path')\n",
        "    ax.scatter(mu_x[:, 0], mu_x[:, 1], label='mean')\n",
        "    ax.legend()"
      ],
      "execution_count": 0,
      "outputs": []
    },
    {
      "cell_type": "code",
      "metadata": {
        "id": "MpUcLGd878FU",
        "colab_type": "code",
        "colab": {}
      },
      "source": [
        "def var_calcer_1(log_var):\n",
        "    return torch.exp(log_var)"
      ],
      "execution_count": 0,
      "outputs": []
    },
    {
      "cell_type": "code",
      "metadata": {
        "id": "shghEtTa5FP4",
        "colab_type": "code",
        "colab": {}
      },
      "source": [
        "class MyNet(nn.Module):\n",
        "    def __init__(self, out_size, var_calcer, n_layers=5, n_features=512):\n",
        "        super(MyNet, self).__init__()\n",
        "        self.n_features = n_features\n",
        "        self.n_layers = n_layers\n",
        "        self.layers = nn.ModuleList()\n",
        "        self.out_size = out_size\n",
        "        self.var_calcer = var_calcer\n",
        "\n",
        "        self.in_layer = nn.Linear(2, self.n_features)\n",
        "        for i in range(n_layers - 2):\n",
        "            self.layers.append(nn.Linear(n_features, self.n_features))\n",
        "        self.outlayer = nn.Linear(self.n_features, out_size)\n",
        "            \n",
        "    def forward(self, x):\n",
        "        x = torch.relu(self.in_layer(x))\n",
        "        for layer in self.layers:\n",
        "            x = torch.relu(layer(x)) + x\n",
        "        mu, log_var = torch.split(self.outlayer(x), 2, dim=1)\n",
        "        var = self.var_calcer(log_var)\n",
        "        return mu, var"
      ],
      "execution_count": 0,
      "outputs": []
    },
    {
      "cell_type": "code",
      "metadata": {
        "id": "rJUIXs1N_nBt",
        "colab_type": "code",
        "colab": {}
      },
      "source": [
        "num_epoch = 10000\n",
        "lr = 2e-4\n",
        "batch_size = 10000\n",
        "val_steps = 4"
      ],
      "execution_count": 0,
      "outputs": []
    },
    {
      "cell_type": "code",
      "metadata": {
        "id": "FqKjSnWn5FSD",
        "colab_type": "code",
        "colab": {}
      },
      "source": [
        "def train(encoder, decoder, train_data, val_data):\n",
        "    train_size = train_data.shape[0]\n",
        "    val_size = val_data.shape[0]\n",
        "    val_batch = torch.from_numpy(val_data).float().cuda()\n",
        "    \n",
        "    optimizer1, optimizer2 = Adam(encoder.parameters(), lr=lr), Adam(decoder.parameters(), lr=lr)\n",
        "    KLD_t, losses_t, var_t, KLD_v, losses_v, var_v = [], [], [], [], [], []\n",
        "\n",
        "    for i in range(num_epoch):\n",
        "        idx = np.random.permutation(train_size)\n",
        "        for j in range(train_size // batch_size):\n",
        "            batch = torch.from_numpy(train_data[idx[j * batch_size : (j + 1) * batch_size]]).float().cuda()\n",
        "\n",
        "            mu_z, var_z = encoder(batch)\n",
        "            mu_x, var_x = decoder(mu_z + torch.sqrt(var_z) * torch.randn(batch.shape).cuda())\n",
        "\n",
        "            nll, KL = MyLoss(batch, mu_x, var_x), KLDiv(mu_z, var_z)\n",
        "            total_loss = torch.mean(nll + KL)\n",
        "\n",
        "            optimizer1.zero_grad()\n",
        "            optimizer2.zero_grad()\n",
        "            total_loss.backward()\n",
        "            utils.clip_grad_norm_(encoder.parameters(), 1.0)\n",
        "            utils.clip_grad_norm_(decoder.parameters(), 1.0)\n",
        "            optimizer1.step()\n",
        "            optimizer2.step()\n",
        "\n",
        "            losses_t.append(torch.mean(nll).detach().item() / 2.0)\n",
        "            KLD_t.append(torch.mean(KL).detach().item())\n",
        "            var_t.append(torch.mean(-total_loss).detach().item())\n",
        "            \n",
        "            if (i * num_epoch + j + 1) % val_steps == 0:\n",
        "                with torch.no_grad():\n",
        "                    mu_z, var_z = encoder(val_batch)\n",
        "                    mu_x, var_x = decoder(mu_z + torch.sqrt(var_z) * torch.randn(val_batch.shape).cuda())\n",
        "                    val_nll = MyLoss(val_batch, mu_x, var_x)\n",
        "                    val_kl = KLDiv(mu_z, var_z)\n",
        "                    losses_v.append(torch.mean(val_nll).detach().item() / 2.0)\n",
        "                    KLD_v.append(torch.mean(val_kl).detach().item())\n",
        "                    var_v.append(torch.mean(-(val_nll + val_kl)).detach().item())\n",
        "\n",
        "    return var_t, var_v, KLD_t, KLD_v, losses_t, losses_v"
      ],
      "execution_count": 0,
      "outputs": []
    },
    {
      "cell_type": "code",
      "metadata": {
        "id": "BMJ9JB245FUU",
        "colab_type": "code",
        "colab": {}
      },
      "source": [
        "encoder = MyNet(4, var_calcer_1, n_layers=3, n_features=512).cuda()\n",
        "decoder = MyNet(4, var_calcer_1, n_layers=3, n_features=512).cuda()\n",
        "\n",
        "var_t, var_v, KLD_t, KLD_v, losses_t, losses_v = train(encoder, decoder, x_train, x_test)"
      ],
      "execution_count": 0,
      "outputs": []
    },
    {
      "cell_type": "code",
      "metadata": {
        "id": "gFRelTMUFW8k",
        "colab_type": "code",
        "colab": {
          "base_uri": "https://localhost:8080/",
          "height": 295
        },
        "outputId": "ab851bcf-3730-4539-a5a0-c5539a63a75d"
      },
      "source": [
        "plot_data(var_t, var_v, \"Var\")"
      ],
      "execution_count": 37,
      "outputs": [
        {
          "output_type": "display_data",
          "data": {
            "image/png": "[encoded data removed]",
            "text/plain": [
              "<Figure size 432x288 with 1 Axes>"
            ]
          },
          "metadata": {
            "tags": []
          }
        }
      ]
    },
    {
      "cell_type": "code",
      "metadata": {
        "id": "6CdM86LFI-26",
        "colab_type": "code",
        "colab": {
          "base_uri": "https://localhost:8080/",
          "height": 295
        },
        "outputId": "677be345-113c-444d-c2d6-fe7763576daa"
      },
      "source": [
        "plot_data(KLD_t, KLD_v, \"KLD\")"
      ],
      "execution_count": 38,
      "outputs": [
        {
          "output_type": "display_data",
          "data": {
            "image/png": "[encoded data removed]",
            "text/plain": [
              "<Figure size 432x288 with 1 Axes>"
            ]
          },
          "metadata": {
            "tags": []
          }
        }
      ]
    },
    {
      "cell_type": "code",
      "metadata": {
        "id": "TxJuT_-zI-qh",
        "colab_type": "code",
        "colab": {
          "base_uri": "https://localhost:8080/",
          "height": 295
        },
        "outputId": "47cac554-5a2d-4ffe-92e6-571391a297f4"
      },
      "source": [
        "plot_data(losses_t, losses_v, \"loss\")"
      ],
      "execution_count": 39,
      "outputs": [
        {
          "output_type": "display_data",
          "data": {
            "image/png": "[encoded data removed]",
            "text/plain": [
              "<Figure size 432x288 with 1 Axes>"
            ]
          },
          "metadata": {
            "tags": []
          }
        }
      ]
    },
    {
      "cell_type": "code",
      "metadata": {
        "id": "V4yKrznG5FZF",
        "colab_type": "code",
        "colab": {
          "base_uri": "https://localhost:8080/",
          "height": 265
        },
        "outputId": "33d02edf-6136-4012-a2cb-3e192168d7e0"
      },
      "source": [
        "x, mu_x = sample(decoder, 100000)\n",
        "plot_samples(x, mu_x)"
      ],
      "execution_count": 40,
      "outputs": [
        {
          "output_type": "display_data",
          "data": {
            "image/png": "[encoded data removed]",
            "text/plain": [
              "<Figure size 432x288 with 1 Axes>"
            ]
          },
          "metadata": {
            "tags": []
          }
        }
      ]
    },
    {
      "cell_type": "code",
      "metadata": {
        "id": "qlpAhgSX5FbT",
        "colab_type": "code",
        "colab": {}
      },
      "source": [
        ""
      ],
      "execution_count": 0,
      "outputs": []
    },
    {
      "cell_type": "code",
      "metadata": {
        "id": "ElZvSpiG5Fds",
        "colab_type": "code",
        "colab": {}
      },
      "source": [
        ""
      ],
      "execution_count": 0,
      "outputs": []
    },
    {
      "cell_type": "code",
      "metadata": {
        "id": "wGL1CXtC5FgH",
        "colab_type": "code",
        "colab": {}
      },
      "source": [
        ""
      ],
      "execution_count": 0,
      "outputs": []
    },
    {
      "cell_type": "code",
      "metadata": {
        "id": "vDRCn1yQ5Fim",
        "colab_type": "code",
        "colab": {}
      },
      "source": [
        ""
      ],
      "execution_count": 0,
      "outputs": []
    },
    {
      "cell_type": "code",
      "metadata": {
        "id": "pGH1Prcx5FlI",
        "colab_type": "code",
        "colab": {}
      },
      "source": [
        ""
      ],
      "execution_count": 0,
      "outputs": []
    },
    {
      "cell_type": "code",
      "metadata": {
        "id": "6njGQBXL5Fnb",
        "colab_type": "code",
        "colab": {}
      },
      "source": [
        ""
      ],
      "execution_count": 0,
      "outputs": []
    },
    {
      "cell_type": "code",
      "metadata": {
        "id": "XEzcdRP25Fpx",
        "colab_type": "code",
        "colab": {}
      },
      "source": [
        ""
      ],
      "execution_count": 0,
      "outputs": []
    },
    {
      "cell_type": "code",
      "metadata": {
        "id": "RhQ3yKAL5FtK",
        "colab_type": "code",
        "colab": {}
      },
      "source": [
        ""
      ],
      "execution_count": 0,
      "outputs": []
    }
  ]
}