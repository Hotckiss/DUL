{
  "nbformat": 4,
  "nbformat_minor": 0,
  "metadata": {
    "colab": {
      "name": "hw3-3.ipynb",
      "provenance": [],
      "include_colab_link": true
    },
    "kernelspec": {
      "name": "python3",
      "display_name": "Python 3"
    },
    "accelerator": "GPU",
    "widgets": {
      "application/vnd.jupyter.widget-state+json": {
        "42b7941a12c0456abf27a2322a0d1c4d": {
          "model_module": "@jupyter-widgets/controls",
          "model_name": "HBoxModel",
          "state": {
            "_view_name": "HBoxView",
            "_dom_classes": [],
            "_model_name": "HBoxModel",
            "_view_module": "@jupyter-widgets/controls",
            "_model_module_version": "1.5.0",
            "_view_count": null,
            "_view_module_version": "1.5.0",
            "box_style": "",
            "layout": "IPY_MODEL_9b5784ac455e4709874769dba3118673",
            "_model_module": "@jupyter-widgets/controls",
            "children": [
              "IPY_MODEL_97b82c523eb04392a4e81cde30708000",
              "IPY_MODEL_8c2e0224a7914cc4afd034ed85950efa"
            ]
          }
        },
        "9b5784ac455e4709874769dba3118673": {
          "model_module": "@jupyter-widgets/base",
          "model_name": "LayoutModel",
          "state": {
            "_view_name": "LayoutView",
            "grid_template_rows": null,
            "right": null,
            "justify_content": null,
            "_view_module": "@jupyter-widgets/base",
            "overflow": null,
            "_model_module_version": "1.2.0",
            "_view_count": null,
            "flex_flow": null,
            "width": null,
            "min_width": null,
            "border": null,
            "align_items": null,
            "bottom": null,
            "_model_module": "@jupyter-widgets/base",
            "top": null,
            "grid_column": null,
            "overflow_y": null,
            "overflow_x": null,
            "grid_auto_flow": null,
            "grid_area": null,
            "grid_template_columns": null,
            "flex": null,
            "_model_name": "LayoutModel",
            "justify_items": null,
            "grid_row": null,
            "max_height": null,
            "align_content": null,
            "visibility": null,
            "align_self": null,
            "height": null,
            "min_height": null,
            "padding": null,
            "grid_auto_rows": null,
            "grid_gap": null,
            "max_width": null,
            "order": null,
            "_view_module_version": "1.2.0",
            "grid_template_areas": null,
            "object_position": null,
            "object_fit": null,
            "grid_auto_columns": null,
            "margin": null,
            "display": null,
            "left": null
          }
        },
        "97b82c523eb04392a4e81cde30708000": {
          "model_module": "@jupyter-widgets/controls",
          "model_name": "IntProgressModel",
          "state": {
            "_view_name": "ProgressView",
            "style": "IPY_MODEL_b6cbd87d1f024313ba743c839702f627",
            "_dom_classes": [],
            "description": "",
            "_model_name": "IntProgressModel",
            "bar_style": "",
            "max": 2,
            "_view_module": "@jupyter-widgets/controls",
            "_model_module_version": "1.5.0",
            "value": 0,
            "_view_count": null,
            "_view_module_version": "1.5.0",
            "orientation": "horizontal",
            "min": 0,
            "description_tooltip": null,
            "_model_module": "@jupyter-widgets/controls",
            "layout": "IPY_MODEL_c82ac2ec468d40c0965b6068b298a223"
          }
        },
        "8c2e0224a7914cc4afd034ed85950efa": {
          "model_module": "@jupyter-widgets/controls",
          "model_name": "HTMLModel",
          "state": {
            "_view_name": "HTMLView",
            "style": "IPY_MODEL_e2d4d59d171743dc85fec0d21aa3b7e4",
            "_dom_classes": [],
            "description": "",
            "_model_name": "HTMLModel",
            "placeholder": "​",
            "_view_module": "@jupyter-widgets/controls",
            "_model_module_version": "1.5.0",
            "value": "  0% 0/2 [00:00&lt;?, ?it/s]",
            "_view_count": null,
            "_view_module_version": "1.5.0",
            "description_tooltip": null,
            "_model_module": "@jupyter-widgets/controls",
            "layout": "IPY_MODEL_7f4e3a353a97462691a3c168c41e1638"
          }
        },
        "b6cbd87d1f024313ba743c839702f627": {
          "model_module": "@jupyter-widgets/controls",
          "model_name": "ProgressStyleModel",
          "state": {
            "_view_name": "StyleView",
            "_model_name": "ProgressStyleModel",
            "description_width": "",
            "_view_module": "@jupyter-widgets/base",
            "_model_module_version": "1.5.0",
            "_view_count": null,
            "_view_module_version": "1.2.0",
            "bar_color": null,
            "_model_module": "@jupyter-widgets/controls"
          }
        },
        "c82ac2ec468d40c0965b6068b298a223": {
          "model_module": "@jupyter-widgets/base",
          "model_name": "LayoutModel",
          "state": {
            "_view_name": "LayoutView",
            "grid_template_rows": null,
            "right": null,
            "justify_content": null,
            "_view_module": "@jupyter-widgets/base",
            "overflow": null,
            "_model_module_version": "1.2.0",
            "_view_count": null,
            "flex_flow": null,
            "width": null,
            "min_width": null,
            "border": null,
            "align_items": null,
            "bottom": null,
            "_model_module": "@jupyter-widgets/base",
            "top": null,
            "grid_column": null,
            "overflow_y": null,
            "overflow_x": null,
            "grid_auto_flow": null,
            "grid_area": null,
            "grid_template_columns": null,
            "flex": null,
            "_model_name": "LayoutModel",
            "justify_items": null,
            "grid_row": null,
            "max_height": null,
            "align_content": null,
            "visibility": null,
            "align_self": null,
            "height": null,
            "min_height": null,
            "padding": null,
            "grid_auto_rows": null,
            "grid_gap": null,
            "max_width": null,
            "order": null,
            "_view_module_version": "1.2.0",
            "grid_template_areas": null,
            "object_position": null,
            "object_fit": null,
            "grid_auto_columns": null,
            "margin": null,
            "display": null,
            "left": null
          }
        },
        "e2d4d59d171743dc85fec0d21aa3b7e4": {
          "model_module": "@jupyter-widgets/controls",
          "model_name": "DescriptionStyleModel",
          "state": {
            "_view_name": "StyleView",
            "_model_name": "DescriptionStyleModel",
            "description_width": "",
            "_view_module": "@jupyter-widgets/base",
            "_model_module_version": "1.5.0",
            "_view_count": null,
            "_view_module_version": "1.2.0",
            "_model_module": "@jupyter-widgets/controls"
          }
        },
        "7f4e3a353a97462691a3c168c41e1638": {
          "model_module": "@jupyter-widgets/base",
          "model_name": "LayoutModel",
          "state": {
            "_view_name": "LayoutView",
            "grid_template_rows": null,
            "right": null,
            "justify_content": null,
            "_view_module": "@jupyter-widgets/base",
            "overflow": null,
            "_model_module_version": "1.2.0",
            "_view_count": null,
            "flex_flow": null,
            "width": null,
            "min_width": null,
            "border": null,
            "align_items": null,
            "bottom": null,
            "_model_module": "@jupyter-widgets/base",
            "top": null,
            "grid_column": null,
            "overflow_y": null,
            "overflow_x": null,
            "grid_auto_flow": null,
            "grid_area": null,
            "grid_template_columns": null,
            "flex": null,
            "_model_name": "LayoutModel",
            "justify_items": null,
            "grid_row": null,
            "max_height": null,
            "align_content": null,
            "visibility": null,
            "align_self": null,
            "height": null,
            "min_height": null,
            "padding": null,
            "grid_auto_rows": null,
            "grid_gap": null,
            "max_width": null,
            "order": null,
            "_view_module_version": "1.2.0",
            "grid_template_areas": null,
            "object_position": null,
            "object_fit": null,
            "grid_auto_columns": null,
            "margin": null,
            "display": null,
            "left": null
          }
        }
      }
    }
  },
  "cells": [
    {
      "cell_type": "markdown",
      "metadata": {
        "id": "view-in-github",
        "colab_type": "text"
      },
      "source": [
        "<a href=\"https://colab.research.google.com/github/Hotckiss/DUL/blob/hw3_2/hw3_3.ipynb\" target=\"_parent\"><img src=\"https://colab.research.google.com/assets/colab-badge.svg\" alt=\"Open In Colab\"/></a>"
      ]
    },
    {
      "cell_type": "code",
      "metadata": {
        "id": "ayAu7FnRHoA3",
        "colab_type": "code",
        "colab": {
          "base_uri": "https://localhost:8080/",
          "height": 122
        },
        "outputId": "0e14e056-9408-4fd2-db65-a5fad8002403"
      },
      "source": [
        "from google.colab import drive\n",
        "drive.mount('/content/drive')"
      ],
      "execution_count": 1,
      "outputs": [
        {
          "output_type": "stream",
          "text": [
            "Go to this URL in a browser: https://accounts.google.com/o/oauth2/auth?client_id=947318989803-6bn6qk8qdgf4n4g3pfee6491hc0brc4i.apps.googleusercontent.com&redirect_uri=urn%3aietf%3awg%3aoauth%3a2.0%3aoob&response_type=code&scope=email%20https%3a%2f%2fwww.googleapis.com%2fauth%2fdocs.test%20https%3a%2f%2fwww.googleapis.com%2fauth%2fdrive%20https%3a%2f%2fwww.googleapis.com%2fauth%2fdrive.photos.readonly%20https%3a%2f%2fwww.googleapis.com%2fauth%2fpeopleapi.readonly\n",
            "\n",
            "Enter your authorization code:\n",
            "··········\n",
            "Mounted at /content/drive\n"
          ],
          "name": "stdout"
        }
      ]
    },
    {
      "cell_type": "code",
      "metadata": {
        "id": "2jLvOrR0LfcR",
        "colab_type": "code",
        "colab": {}
      },
      "source": [
        "import os\n",
        "import pickle\n",
        "\n",
        "import numpy as np\n",
        "from collections import Counter\n",
        "\n",
        "import torch\n",
        "import torch.nn as nn\n",
        "import torch.optim as optim\n",
        "import torch.utils.data as data\n",
        "import torch.nn.functional as F\n",
        "\n",
        "from tqdm.auto import tqdm, trange\n",
        "import matplotlib.pyplot as plt\n",
        "\n",
        "path_ = os.path.join('drive', 'My Drive', 'hw3-q2.pkl')\n",
        "\n",
        "device = torch.device('cuda:0' if torch.cuda.is_available() else 'cpu')"
      ],
      "execution_count": 0,
      "outputs": []
    },
    {
      "cell_type": "code",
      "metadata": {
        "id": "zv7aftV6O2Md",
        "colab_type": "code",
        "colab": {}
      },
      "source": [
        "def plot_data(n, train, validate, title_):\n",
        "    ax = plt.subplot(111)\n",
        "    ax.plot(range(n), train, label='train')\n",
        "    ax.plot(range(n), validate, label='val')\n",
        "    ax.set_xlabel(\"n\")\n",
        "    ax.set_title(title_)\n",
        "    ax.legend()"
      ],
      "execution_count": 0,
      "outputs": []
    },
    {
      "cell_type": "code",
      "metadata": {
        "id": "1PMqqGagVzk-",
        "colab_type": "code",
        "colab": {}
      },
      "source": [
        "def read_data():\n",
        "    with open(path_, 'rb') as in_file:\n",
        "        dataset = pickle.load(in_file)\n",
        "\n",
        "    return dataset['train'], dataset['valid']"
      ],
      "execution_count": 0,
      "outputs": []
    },
    {
      "cell_type": "code",
      "metadata": {
        "id": "-96E4Q2ILfhH",
        "colab_type": "code",
        "colab": {}
      },
      "source": [
        "xs_train, xs_val = read_data()"
      ],
      "execution_count": 0,
      "outputs": []
    },
    {
      "cell_type": "code",
      "metadata": {
        "id": "ZAMUn4F-LngX",
        "colab_type": "code",
        "colab": {}
      },
      "source": [
        "class GatedShortcutConnection(nn.Module):\n",
        "    def __init__(self, channels=128):\n",
        "        super(GatedShortcutConnection, self).__init__()\n",
        "                 \n",
        "        self.conv1 = nn.Conv2d(channels, channels, kernel_size=1)\n",
        "        self.conv2 = nn.Conv2d(channels, channels, kernel_size=1)\n",
        "        self.sigmoid = nn.Sigmoid()\n",
        "                 \n",
        "    def forward(self, x):\n",
        "        return self.conv1(x) * self.sigmoid(self.conv2(x))"
      ],
      "execution_count": 0,
      "outputs": []
    },
    {
      "cell_type": "code",
      "metadata": {
        "id": "l1qx9dmkLnix",
        "colab_type": "code",
        "colab": {}
      },
      "source": [
        "class ResidualStack(nn.Module):\n",
        "    def __init__(self, channels=64):\n",
        "        super(ResidualStack, self).__init__()      \n",
        "        self.net = nn.Sequential(\n",
        "            nn.Conv2d(4 * channels, channels, kernel_size=3, padding=1, bias=False),\n",
        "            nn.ReLU(),\n",
        "            nn.Conv2d(channels, channels * 2, kernel_size=3, padding=1, bias=False),\n",
        "            nn.ReLU(),\n",
        "            GatedShortcutConnection(channels=channels * 2),\n",
        "            nn.ReLU(),\n",
        "            nn.Conv2d(2 * channels, channels, kernel_size=3, padding=1, bias=False),\n",
        "            nn.ReLU(),\n",
        "            nn.Conv2d(channels, channels * 2, kernel_size=3, padding=1, bias=False),\n",
        "            nn.ReLU(),\n",
        "            GatedShortcutConnection(channels=channels * 2),\n",
        "            nn.ReLU(),\n",
        "            nn.Conv2d(2 * channels, channels, kernel_size=3, padding=1, bias=False),\n",
        "            nn.ReLU(),\n",
        "            nn.Conv2d(channels, channels * 2, kernel_size=3, padding=1, bias=False),\n",
        "            nn.ReLU(),\n",
        "            GatedShortcutConnection(channels=channels * 2),\n",
        "            nn.ReLU(),\n",
        "            nn.Conv2d(2 * channels, channels, kernel_size=3, padding=1, bias=False),\n",
        "            nn.ReLU(),\n",
        "            nn.Conv2d(channels, channels * 2, kernel_size=3, padding=1, bias=False),\n",
        "            nn.ReLU(),\n",
        "            GatedShortcutConnection(channels=channels * 2),\n",
        "            nn.ReLU(),\n",
        "            nn.Conv2d(2 * channels, channels, kernel_size=3, padding=1, bias=False),\n",
        "            nn.ReLU(),\n",
        "            nn.Conv2d(channels, channels * 2, kernel_size=3, padding=1, bias=False),\n",
        "            nn.ReLU(),\n",
        "            GatedShortcutConnection(channels=channels * 2),\n",
        "            nn.ReLU()\n",
        "        )\n",
        "                 \n",
        "    def forward(self, x):\n",
        "        return self.net(x)"
      ],
      "execution_count": 0,
      "outputs": []
    },
    {
      "cell_type": "code",
      "metadata": {
        "id": "CfLlqG9LLnlN",
        "colab_type": "code",
        "colab": {}
      },
      "source": [
        "class Encoder(nn.Module):\n",
        "    def __init__(self, channels):\n",
        "        super(Encoder, self).__init__()\n",
        "        self.channels = channels\n",
        "        self.net = nn.Sequential(\n",
        "            nn.Conv2d(3, self.channels * 2, kernel_size=4, stride=2, padding=1, bias=False),\n",
        "            nn.ReLU(),\n",
        "            nn.Conv2d(self.channels * 2, self.channels * 4, kernel_size=4, stride=2, padding=1, bias=False),\n",
        "            nn.ReLU(),\n",
        "            nn.Conv2d(self.channels * 4, self.channels * 4, kernel_size=3, padding=1, bias=False),\n",
        "            nn.ReLU(),\n",
        "            ResidualStack(self.channels),\n",
        "            nn.Conv2d(self.channels * 2, self.channels * 4, kernel_size=1)\n",
        "        )\n",
        "                 \n",
        "    def forward(self, x):\n",
        "        x = self.net(x).reshape(-1, 2, 2 * self.channels, 8, 8)\n",
        "        return x[:, 0], torch.exp(x[:, 1])"
      ],
      "execution_count": 0,
      "outputs": []
    },
    {
      "cell_type": "code",
      "metadata": {
        "id": "lkYPTPAJLnnx",
        "colab_type": "code",
        "colab": {}
      },
      "source": [
        "class Decoder(nn.Module):\n",
        "    def __init__(self, channels):\n",
        "        super(Decoder, self).__init__()\n",
        "        self.channels = channels\n",
        "        self.layers = nn.Sequential(\n",
        "            nn.Conv2d(self.channels * 2, self.channels * 4, kernel_size=3, padding=1, bias=False),\n",
        "            nn.ReLU(),\n",
        "            ResidualStack(self.channels),\n",
        "            nn.ConvTranspose2d(self.channels * 2, self.channels * 2, kernel_size=4, stride=2, padding=1, bias=False),\n",
        "            nn.ReLU(),\n",
        "            nn.ConvTranspose2d(self.channels * 2, 3 * 2, kernel_size=4, stride=2, padding=1, bias=False)\n",
        "        )\n",
        "                 \n",
        "    def forward(self, x):\n",
        "        x = self.layers(x).reshape(-1, 2, 3, 32, 32)\n",
        "        return x[:, 0], torch.exp(x[:, 1])"
      ],
      "execution_count": 0,
      "outputs": []
    },
    {
      "cell_type": "code",
      "metadata": {
        "id": "PsBolXJ3Lnqa",
        "colab_type": "code",
        "colab": {}
      },
      "source": [
        "class VAE(nn.Module):\n",
        "    def __init__(self, channels=64):\n",
        "        super(VAE, self).__init__()\n",
        "        self.channels = channels\n",
        "        self.encoder = Encoder(channels)\n",
        "        self.decoder = Decoder(channels)\n",
        "            \n",
        "    def encode(self, x, training=True):\n",
        "        mu, var = self.encoder(x)\n",
        "        z = mu + torch.sqrt(var) * torch.randn_like(mu, device=device)\n",
        "        return (mu, var, z) if training else mu\n",
        "    \n",
        "    def decode(self, z):\n",
        "        return self.decoder(z)\n",
        "            \n",
        "    def forward(self, x):\n",
        "        mu_z, var_z, z = self.encode(x)\n",
        "        mu_x, var_x = self.decode(z)\n",
        "        return mu_z, var_z, mu_x, var_x"
      ],
      "execution_count": 0,
      "outputs": []
    },
    {
      "cell_type": "code",
      "metadata": {
        "id": "WMZORqOeLnsU",
        "colab_type": "code",
        "colab": {}
      },
      "source": [
        "def MLLLoss(mu, var, x):\n",
        "    return (0.5 * (torch.log(np.pi * 2 * var) + (x - mu) ** 2 / var)).mean()"
      ],
      "execution_count": 0,
      "outputs": []
    },
    {
      "cell_type": "code",
      "metadata": {
        "id": "Ty95tKr6LfmA",
        "colab_type": "code",
        "colab": {}
      },
      "source": [
        "def KLDiv(mu, var):\n",
        "    return (-0.5 * (1.0 + torch.log(var) - mu ** 2 - var)).mean()"
      ],
      "execution_count": 0,
      "outputs": []
    },
    {
      "cell_type": "code",
      "metadata": {
        "id": "kVn5q9UHRfXx",
        "colab_type": "code",
        "colab": {}
      },
      "source": [
        "def collate_fn(xs):\n",
        "    return (torch.tensor(xs, dtype=torch.float32) * 2 / 255 - 1).permute(0, 3, 1, 2)\n",
        "\n",
        "train_data_loader = data.DataLoader(\n",
        "    dataset=xs_train,\n",
        "    batch_size=batch_size,\n",
        "    shuffle=True,\n",
        "    num_workers=8,\n",
        "    collate_fn=collate_fn\n",
        ")\n",
        "val_data_loader = data.DataLoader(\n",
        "    dataset=xs_val,\n",
        "    batch_size=batch_size,\n",
        "    shuffle=False,\n",
        "    num_workers=8,\n",
        "    collate_fn=collate_fn\n",
        ")\n",
        "\n",
        "epochs = 2\n",
        "batch_size = 1024\n",
        "model = VAE(channels=32)\n",
        "model.to(device)\n",
        "\n",
        "optimizer = optim.Adam(model.parameters(), lr=2e-4)"
      ],
      "execution_count": 0,
      "outputs": []
    },
    {
      "cell_type": "code",
      "metadata": {
        "id": "nOn91dYvLfox",
        "colab_type": "code",
        "colab": {}
      },
      "source": [
        "def train():\n",
        "    losses_mse_train = []\n",
        "    losses_kl_train = []\n",
        "    losses_train = []\n",
        "    losses_mse_val = []\n",
        "    losses_kl_val = []\n",
        "    losses_val = []\n",
        "    for i in trange(epochs):\n",
        "        losses_mse = []\n",
        "        losses_kl = []\n",
        "        losses = []\n",
        "        model.train()\n",
        "        for xs in train_data_loader:\n",
        "            xs = xs.to(device)\n",
        "            \n",
        "            optimizer.zero_grad()\n",
        "\n",
        "            z_data, mu_x, var_x = model(xs)\n",
        "            \n",
        "            loss_mse = MLLLoss(mu_x, var_x, xs)\n",
        "            loss_kl = KLDiv(*z_data)\n",
        "            loss = loss_mse + loss_kl\n",
        "\n",
        "            losses_mse.append(loss_mse.item())\n",
        "            losses_kl.append(loss_kl.item())\n",
        "            losses.append(loss.item())\n",
        "\n",
        "            loss.backward()\n",
        "            optimizer.step()\n",
        "\n",
        "        losses_mse_train.append(np.array(losses_mse).mean())\n",
        "        losses_kl_train.append(np.array(losses_kl).mean())\n",
        "        losses_train.append(np.array(losses).mean())\n",
        "\n",
        "        losses_mse = []\n",
        "        losses_kl = []\n",
        "        losses = []\n",
        "        model.eval()\n",
        "        with torch.no_grad():\n",
        "            for xs in val_data_loader:\n",
        "                xs = xs.to(device)\n",
        "\n",
        "                z_data, mu_x, var_x = model(xs)\n",
        "\n",
        "                loss_mse = MLLLoss(mu_x, var_x, xs)\n",
        "                loss_kl = KLDiv(*z_data)\n",
        "                loss = loss_mse + loss_kl\n",
        "\n",
        "                losses_mse.append(loss_mse.item())\n",
        "                losses_kl.append(loss_kl.item())\n",
        "                losses.append(loss.item())\n",
        "\n",
        "        losses_mse_val.append(np.array(losses_mse).mean())\n",
        "        losses_kl_val.append(np.array(losses_kl).mean())\n",
        "        losses_val.append(np.array(losses).mean())\n",
        "\n",
        "    return losses_mse_train, losses_mse_val, losses_kl_train, losses_kl_val, losses_train, losses_val"
      ],
      "execution_count": 0,
      "outputs": []
    },
    {
      "cell_type": "code",
      "metadata": {
        "id": "HuIsGVnfPRIB",
        "colab_type": "code",
        "colab": {
          "base_uri": "https://localhost:8080/",
          "height": 49,
          "referenced_widgets": [
            "42b7941a12c0456abf27a2322a0d1c4d",
            "9b5784ac455e4709874769dba3118673",
            "97b82c523eb04392a4e81cde30708000",
            "8c2e0224a7914cc4afd034ed85950efa",
            "b6cbd87d1f024313ba743c839702f627",
            "c82ac2ec468d40c0965b6068b298a223",
            "e2d4d59d171743dc85fec0d21aa3b7e4",
            "7f4e3a353a97462691a3c168c41e1638"
          ]
        },
        "outputId": "5a4b4faa-d271-46fb-d2cc-07a94bc27473"
      },
      "source": [
        "\n",
        "\n",
        "losses_mse_train, losses_mse_val, losses_kl_train, losses_kl_val, losses_train, losses_val = train()"
      ],
      "execution_count": 0,
      "outputs": [
        {
          "output_type": "display_data",
          "data": {
            "application/vnd.jupyter.widget-view+json": {
              "model_id": "42b7941a12c0456abf27a2322a0d1c4d",
              "version_minor": 0,
              "version_major": 2
            },
            "text/plain": [
              "HBox(children=(IntProgress(value=0, max=2), HTML(value='')))"
            ]
          },
          "metadata": {
            "tags": []
          }
        }
      ]
    },
    {
      "cell_type": "code",
      "metadata": {
        "id": "zQpu0HPQPKQC",
        "colab_type": "code",
        "colab": {
          "base_uri": "https://localhost:8080/",
          "height": 295
        },
        "outputId": "bfa2e37c-2d38-4a27-f011-010378fd1b1e"
      },
      "source": [
        "plot_data(epochs, losses_mse_train, losses_mse_val, \"mse\")"
      ],
      "execution_count": 24,
      "outputs": [
        {
          "output_type": "display_data",
          "data": {
            "image/png": "[encoded data removed]",
            "text/plain": [
              "<Figure size 432x288 with 1 Axes>"
            ]
          },
          "metadata": {
            "tags": []
          }
        }
      ]
    },
    {
      "cell_type": "code",
      "metadata": {
        "id": "2zsbQwYpPiBc",
        "colab_type": "code",
        "colab": {
          "base_uri": "https://localhost:8080/",
          "height": 295
        },
        "outputId": "d63cfd79-eff1-46e8-af23-e9db19137dc9"
      },
      "source": [
        "plot_data(epochs, losses_kl_train, losses_kl_val, \"KLD\")"
      ],
      "execution_count": 25,
      "outputs": [
        {
          "output_type": "display_data",
          "data": {
            "image/png": "[encoded data removed]",
            "text/plain": [
              "<Figure size 432x288 with 1 Axes>"
            ]
          },
          "metadata": {
            "tags": []
          }
        }
      ]
    },
    {
      "cell_type": "code",
      "metadata": {
        "id": "SdQ2mzv4Ph3t",
        "colab_type": "code",
        "colab": {
          "base_uri": "https://localhost:8080/",
          "height": 295
        },
        "outputId": "51f3c087-99dc-4092-ed7a-cc6ff7e17f6c"
      },
      "source": [
        "plot_data(epochs, losses_train, losses_val, \"loss\")"
      ],
      "execution_count": 26,
      "outputs": [
        {
          "output_type": "display_data",
          "data": {
            "image/png": "[encoded data removed]",
            "text/plain": [
              "<Figure size 432x288 with 1 Axes>"
            ]
          },
          "metadata": {
            "tags": []
          }
        }
      ]
    },
    {
      "cell_type": "code",
      "metadata": {
        "id": "aS2n-m13PPCm",
        "colab_type": "code",
        "colab": {}
      },
      "source": [
        ""
      ],
      "execution_count": 0,
      "outputs": []
    },
    {
      "cell_type": "code",
      "metadata": {
        "id": "TMqPTOM6Lftu",
        "colab_type": "code",
        "colab": {}
      },
      "source": [
        ""
      ],
      "execution_count": 0,
      "outputs": []
    },
    {
      "cell_type": "code",
      "metadata": {
        "id": "OieUpUI3LfwU",
        "colab_type": "code",
        "colab": {}
      },
      "source": [
        ""
      ],
      "execution_count": 0,
      "outputs": []
    },
    {
      "cell_type": "code",
      "metadata": {
        "id": "tYofYYJWLfy6",
        "colab_type": "code",
        "colab": {}
      },
      "source": [
        ""
      ],
      "execution_count": 0,
      "outputs": []
    },
    {
      "cell_type": "code",
      "metadata": {
        "id": "_RNLNxYRLf1C",
        "colab_type": "code",
        "colab": {}
      },
      "source": [
        ""
      ],
      "execution_count": 0,
      "outputs": []
    }
  ]
}