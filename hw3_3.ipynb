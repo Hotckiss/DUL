{
  "nbformat": 4,
  "nbformat_minor": 0,
  "metadata": {
    "colab": {
      "name": "hw3-3.ipynb",
      "provenance": [],
      "include_colab_link": true
    },
    "kernelspec": {
      "name": "python3",
      "display_name": "Python 3"
    },
    "accelerator": "GPU",
    "widgets": {
      "application/vnd.jupyter.widget-state+json": {
        "dad9e5adc8824c448ac5353f37488d84": {
          "model_module": "@jupyter-widgets/controls",
          "model_name": "HBoxModel",
          "state": {
            "_view_name": "HBoxView",
            "_dom_classes": [],
            "_model_name": "HBoxModel",
            "_view_module": "@jupyter-widgets/controls",
            "_model_module_version": "1.5.0",
            "_view_count": null,
            "_view_module_version": "1.5.0",
            "box_style": "",
            "layout": "IPY_MODEL_0e219ddeda08442baba2150a33094847",
            "_model_module": "@jupyter-widgets/controls",
            "children": [
              "IPY_MODEL_42938c584d3c46c095e99bd6fec40959",
              "IPY_MODEL_dec9a7c7733d4a8fb4870204ccb05ab9"
            ]
          }
        },
        "0e219ddeda08442baba2150a33094847": {
          "model_module": "@jupyter-widgets/base",
          "model_name": "LayoutModel",
          "state": {
            "_view_name": "LayoutView",
            "grid_template_rows": null,
            "right": null,
            "justify_content": null,
            "_view_module": "@jupyter-widgets/base",
            "overflow": null,
            "_model_module_version": "1.2.0",
            "_view_count": null,
            "flex_flow": null,
            "width": null,
            "min_width": null,
            "border": null,
            "align_items": null,
            "bottom": null,
            "_model_module": "@jupyter-widgets/base",
            "top": null,
            "grid_column": null,
            "overflow_y": null,
            "overflow_x": null,
            "grid_auto_flow": null,
            "grid_area": null,
            "grid_template_columns": null,
            "flex": null,
            "_model_name": "LayoutModel",
            "justify_items": null,
            "grid_row": null,
            "max_height": null,
            "align_content": null,
            "visibility": null,
            "align_self": null,
            "height": null,
            "min_height": null,
            "padding": null,
            "grid_auto_rows": null,
            "grid_gap": null,
            "max_width": null,
            "order": null,
            "_view_module_version": "1.2.0",
            "grid_template_areas": null,
            "object_position": null,
            "object_fit": null,
            "grid_auto_columns": null,
            "margin": null,
            "display": null,
            "left": null
          }
        },
        "42938c584d3c46c095e99bd6fec40959": {
          "model_module": "@jupyter-widgets/controls",
          "model_name": "IntProgressModel",
          "state": {
            "_view_name": "ProgressView",
            "style": "IPY_MODEL_012b1445d89d4020b732fddb591985b1",
            "_dom_classes": [],
            "description": "",
            "_model_name": "IntProgressModel",
            "bar_style": "success",
            "max": 5,
            "_view_module": "@jupyter-widgets/controls",
            "_model_module_version": "1.5.0",
            "value": 5,
            "_view_count": null,
            "_view_module_version": "1.5.0",
            "orientation": "horizontal",
            "min": 0,
            "description_tooltip": null,
            "_model_module": "@jupyter-widgets/controls",
            "layout": "IPY_MODEL_076b5f30bc42402db0399b2e6cc77358"
          }
        },
        "dec9a7c7733d4a8fb4870204ccb05ab9": {
          "model_module": "@jupyter-widgets/controls",
          "model_name": "HTMLModel",
          "state": {
            "_view_name": "HTMLView",
            "style": "IPY_MODEL_ef157278a06b4ff5ba7ec5c54dfe346f",
            "_dom_classes": [],
            "description": "",
            "_model_name": "HTMLModel",
            "placeholder": "​",
            "_view_module": "@jupyter-widgets/controls",
            "_model_module_version": "1.5.0",
            "value": "100% 5/5 [06:45&lt;00:00, 80.98s/it]",
            "_view_count": null,
            "_view_module_version": "1.5.0",
            "description_tooltip": null,
            "_model_module": "@jupyter-widgets/controls",
            "layout": "IPY_MODEL_6a1bf05a9972425f8240470f55d9a476"
          }
        },
        "012b1445d89d4020b732fddb591985b1": {
          "model_module": "@jupyter-widgets/controls",
          "model_name": "ProgressStyleModel",
          "state": {
            "_view_name": "StyleView",
            "_model_name": "ProgressStyleModel",
            "description_width": "",
            "_view_module": "@jupyter-widgets/base",
            "_model_module_version": "1.5.0",
            "_view_count": null,
            "_view_module_version": "1.2.0",
            "bar_color": null,
            "_model_module": "@jupyter-widgets/controls"
          }
        },
        "076b5f30bc42402db0399b2e6cc77358": {
          "model_module": "@jupyter-widgets/base",
          "model_name": "LayoutModel",
          "state": {
            "_view_name": "LayoutView",
            "grid_template_rows": null,
            "right": null,
            "justify_content": null,
            "_view_module": "@jupyter-widgets/base",
            "overflow": null,
            "_model_module_version": "1.2.0",
            "_view_count": null,
            "flex_flow": null,
            "width": null,
            "min_width": null,
            "border": null,
            "align_items": null,
            "bottom": null,
            "_model_module": "@jupyter-widgets/base",
            "top": null,
            "grid_column": null,
            "overflow_y": null,
            "overflow_x": null,
            "grid_auto_flow": null,
            "grid_area": null,
            "grid_template_columns": null,
            "flex": null,
            "_model_name": "LayoutModel",
            "justify_items": null,
            "grid_row": null,
            "max_height": null,
            "align_content": null,
            "visibility": null,
            "align_self": null,
            "height": null,
            "min_height": null,
            "padding": null,
            "grid_auto_rows": null,
            "grid_gap": null,
            "max_width": null,
            "order": null,
            "_view_module_version": "1.2.0",
            "grid_template_areas": null,
            "object_position": null,
            "object_fit": null,
            "grid_auto_columns": null,
            "margin": null,
            "display": null,
            "left": null
          }
        },
        "ef157278a06b4ff5ba7ec5c54dfe346f": {
          "model_module": "@jupyter-widgets/controls",
          "model_name": "DescriptionStyleModel",
          "state": {
            "_view_name": "StyleView",
            "_model_name": "DescriptionStyleModel",
            "description_width": "",
            "_view_module": "@jupyter-widgets/base",
            "_model_module_version": "1.5.0",
            "_view_count": null,
            "_view_module_version": "1.2.0",
            "_model_module": "@jupyter-widgets/controls"
          }
        },
        "6a1bf05a9972425f8240470f55d9a476": {
          "model_module": "@jupyter-widgets/base",
          "model_name": "LayoutModel",
          "state": {
            "_view_name": "LayoutView",
            "grid_template_rows": null,
            "right": null,
            "justify_content": null,
            "_view_module": "@jupyter-widgets/base",
            "overflow": null,
            "_model_module_version": "1.2.0",
            "_view_count": null,
            "flex_flow": null,
            "width": null,
            "min_width": null,
            "border": null,
            "align_items": null,
            "bottom": null,
            "_model_module": "@jupyter-widgets/base",
            "top": null,
            "grid_column": null,
            "overflow_y": null,
            "overflow_x": null,
            "grid_auto_flow": null,
            "grid_area": null,
            "grid_template_columns": null,
            "flex": null,
            "_model_name": "LayoutModel",
            "justify_items": null,
            "grid_row": null,
            "max_height": null,
            "align_content": null,
            "visibility": null,
            "align_self": null,
            "height": null,
            "min_height": null,
            "padding": null,
            "grid_auto_rows": null,
            "grid_gap": null,
            "max_width": null,
            "order": null,
            "_view_module_version": "1.2.0",
            "grid_template_areas": null,
            "object_position": null,
            "object_fit": null,
            "grid_auto_columns": null,
            "margin": null,
            "display": null,
            "left": null
          }
        }
      }
    }
  },
  "cells": [
    {
      "cell_type": "markdown",
      "metadata": {
        "id": "view-in-github",
        "colab_type": "text"
      },
      "source": [
        "<a href=\"https://colab.research.google.com/github/Hotckiss/DUL/blob/hw3_2/hw3_3.ipynb\" target=\"_parent\"><img src=\"https://colab.research.google.com/assets/colab-badge.svg\" alt=\"Open In Colab\"/></a>"
      ]
    },
    {
      "cell_type": "code",
      "metadata": {
        "id": "ayAu7FnRHoA3",
        "colab_type": "code",
        "colab": {
          "base_uri": "https://localhost:8080/",
          "height": 122
        },
        "outputId": "0e14e056-9408-4fd2-db65-a5fad8002403"
      },
      "source": [
        "from google.colab import drive\n",
        "drive.mount('/content/drive')"
      ],
      "execution_count": 1,
      "outputs": [
        {
          "output_type": "stream",
          "text": [
            "Go to this URL in a browser: https://accounts.google.com/o/oauth2/auth?client_id=947318989803-6bn6qk8qdgf4n4g3pfee6491hc0brc4i.apps.googleusercontent.com&redirect_uri=urn%3aietf%3awg%3aoauth%3a2.0%3aoob&response_type=code&scope=email%20https%3a%2f%2fwww.googleapis.com%2fauth%2fdocs.test%20https%3a%2f%2fwww.googleapis.com%2fauth%2fdrive%20https%3a%2f%2fwww.googleapis.com%2fauth%2fdrive.photos.readonly%20https%3a%2f%2fwww.googleapis.com%2fauth%2fpeopleapi.readonly\n",
            "\n",
            "Enter your authorization code:\n",
            "··········\n",
            "Mounted at /content/drive\n"
          ],
          "name": "stdout"
        }
      ]
    },
    {
      "cell_type": "code",
      "metadata": {
        "id": "2jLvOrR0LfcR",
        "colab_type": "code",
        "colab": {}
      },
      "source": [
        "import os\n",
        "import pickle\n",
        "\n",
        "import numpy as np\n",
        "from collections import Counter\n",
        "\n",
        "import torch\n",
        "import torch.nn as nn\n",
        "import torch.optim as optim\n",
        "import torch.utils.data as data\n",
        "import torch.nn.functional as F\n",
        "\n",
        "from tqdm.auto import tqdm, trange\n",
        "import matplotlib.pyplot as plt\n",
        "\n",
        "path_ = os.path.join('drive', 'My Drive', 'hw3-q2.pkl')\n",
        "\n",
        "device = torch.device('cuda:0' if torch.cuda.is_available() else 'cpu')"
      ],
      "execution_count": 0,
      "outputs": []
    },
    {
      "cell_type": "code",
      "metadata": {
        "id": "zv7aftV6O2Md",
        "colab_type": "code",
        "colab": {}
      },
      "source": [
        "def plot_data(n, train, validate, title_):\n",
        "    ax = plt.subplot(111)\n",
        "    ax.plot(range(n), train, label='train')\n",
        "    ax.plot(range(n), validate, label='val')\n",
        "    ax.set_xlabel(\"n\")\n",
        "    ax.set_title(title_)\n",
        "    ax.legend()"
      ],
      "execution_count": 0,
      "outputs": []
    },
    {
      "cell_type": "code",
      "metadata": {
        "id": "1PMqqGagVzk-",
        "colab_type": "code",
        "colab": {}
      },
      "source": [
        "def read_data():\n",
        "    with open(path_, 'rb') as in_file:\n",
        "        data = pickle.load(in_file)\n",
        "\n",
        "    return data['train'], data['valid']"
      ],
      "execution_count": 0,
      "outputs": []
    },
    {
      "cell_type": "code",
      "metadata": {
        "id": "4fWqxMhXYKGs",
        "colab_type": "code",
        "colab": {}
      },
      "source": [
        "def transform(x):\n",
        "    return (torch.tensor(x, dtype=torch.float32) * 2 / 255 - 1).permute(0, 3, 1, 2)"
      ],
      "execution_count": 0,
      "outputs": []
    },
    {
      "cell_type": "code",
      "metadata": {
        "id": "Ty95tKr6LfmA",
        "colab_type": "code",
        "colab": {}
      },
      "source": [
        "def KLDiv(mu, var):\n",
        "    return (-0.5 * (1.0 + torch.log(var) - mu ** 2 - var)).mean()"
      ],
      "execution_count": 0,
      "outputs": []
    },
    {
      "cell_type": "code",
      "metadata": {
        "id": "WMZORqOeLnsU",
        "colab_type": "code",
        "colab": {}
      },
      "source": [
        "def MLLLoss(mu, var, x):\n",
        "    return (0.5 * (torch.log(np.pi * 2 * var) + (x - mu) ** 2 / var)).mean()"
      ],
      "execution_count": 0,
      "outputs": []
    },
    {
      "cell_type": "code",
      "metadata": {
        "id": "ZAMUn4F-LngX",
        "colab_type": "code",
        "colab": {}
      },
      "source": [
        "class GatedShortcutConnection(nn.Module):\n",
        "    def __init__(self, channels=128):\n",
        "        super(GatedShortcutConnection, self).__init__()\n",
        "                 \n",
        "        self.conv1 = nn.Conv2d(channels, channels, kernel_size=1)\n",
        "        self.conv2 = nn.Conv2d(channels, channels, kernel_size=1)\n",
        "        self.sigmoid = nn.Sigmoid()\n",
        "                 \n",
        "    def forward(self, x):\n",
        "        return self.conv1(x) * self.sigmoid(self.conv2(x))"
      ],
      "execution_count": 0,
      "outputs": []
    },
    {
      "cell_type": "code",
      "metadata": {
        "id": "l1qx9dmkLnix",
        "colab_type": "code",
        "colab": {}
      },
      "source": [
        "class ResidualStack(nn.Module):\n",
        "    def __init__(self, channels=64):\n",
        "        super(ResidualStack, self).__init__()      \n",
        "        self.net = nn.Sequential(\n",
        "            nn.Conv2d(4 * channels, channels, kernel_size=3, padding=1, bias=False),\n",
        "            nn.ReLU(),\n",
        "            nn.Conv2d(channels, channels * 2, kernel_size=3, padding=1, bias=False),\n",
        "            nn.ReLU(),\n",
        "            GatedShortcutConnection(channels=channels * 2),\n",
        "            nn.ReLU(),\n",
        "            nn.Conv2d(2 * channels, channels, kernel_size=3, padding=1, bias=False),\n",
        "            nn.ReLU(),\n",
        "            nn.Conv2d(channels, channels * 2, kernel_size=3, padding=1, bias=False),\n",
        "            nn.ReLU(),\n",
        "            GatedShortcutConnection(channels=channels * 2),\n",
        "            nn.ReLU(),\n",
        "            nn.Conv2d(2 * channels, channels, kernel_size=3, padding=1, bias=False),\n",
        "            nn.ReLU(),\n",
        "            nn.Conv2d(channels, channels * 2, kernel_size=3, padding=1, bias=False),\n",
        "            nn.ReLU(),\n",
        "            GatedShortcutConnection(channels=channels * 2),\n",
        "            nn.ReLU(),\n",
        "            nn.Conv2d(2 * channels, channels, kernel_size=3, padding=1, bias=False),\n",
        "            nn.ReLU(),\n",
        "            nn.Conv2d(channels, channels * 2, kernel_size=3, padding=1, bias=False),\n",
        "            nn.ReLU(),\n",
        "            GatedShortcutConnection(channels=channels * 2),\n",
        "            nn.ReLU(),\n",
        "            nn.Conv2d(2 * channels, channels, kernel_size=3, padding=1, bias=False),\n",
        "            nn.ReLU(),\n",
        "            nn.Conv2d(channels, channels * 2, kernel_size=3, padding=1, bias=False),\n",
        "            nn.ReLU(),\n",
        "            GatedShortcutConnection(channels=channels * 2),\n",
        "            nn.ReLU()\n",
        "        )\n",
        "                 \n",
        "    def forward(self, x):\n",
        "        return self.net(x)"
      ],
      "execution_count": 0,
      "outputs": []
    },
    {
      "cell_type": "code",
      "metadata": {
        "id": "PsBolXJ3Lnqa",
        "colab_type": "code",
        "colab": {}
      },
      "source": [
        "class VAE(nn.Module):\n",
        "    def __init__(self, channels=32):\n",
        "        super(VAE, self).__init__()\n",
        "        self.channels = channels\n",
        "        self.encoder = nn.Sequential(\n",
        "            nn.Conv2d(3, self.channels * 2, kernel_size=4, stride=2, padding=1, bias=False),\n",
        "            nn.ReLU(),\n",
        "            nn.Conv2d(self.channels * 2, self.channels * 4, kernel_size=4, stride=2, padding=1, bias=False),\n",
        "            nn.ReLU(),\n",
        "            nn.Conv2d(self.channels * 4, self.channels * 4, kernel_size=3, padding=1, bias=False),\n",
        "            nn.ReLU(),\n",
        "            ResidualStack(self.channels),\n",
        "            nn.Conv2d(self.channels * 2, self.channels * 4, kernel_size=1)\n",
        "        )\n",
        "\n",
        "        self.decoder = nn.Sequential(\n",
        "            nn.Conv2d(self.channels * 2, self.channels * 4, kernel_size=3, padding=1, bias=False),\n",
        "            nn.ReLU(),\n",
        "            ResidualStack(self.channels),\n",
        "            nn.ConvTranspose2d(self.channels * 2, self.channels * 2, kernel_size=4, stride=2, padding=1, bias=False),\n",
        "            nn.ReLU(),\n",
        "            nn.ConvTranspose2d(self.channels * 2, 3 * 2, kernel_size=4, stride=2, padding=1, bias=False)\n",
        "        )\n",
        "            \n",
        "    def encode(self, x):\n",
        "        x = self.encoder(x).reshape(-1, 2, 2 * self.channels, 8, 8)\n",
        "        mu, var = x[:, 0], torch.exp(x[:, 1])\n",
        "        z = mu + torch.sqrt(var) * torch.randn_like(mu, device=device)\n",
        "        return mu, var, z\n",
        "    \n",
        "    def decode(self, z):\n",
        "        z = self.decoder(z).reshape(-1, 2, 3, 32, 32)\n",
        "        return z[:, 0], torch.exp(z[:, 1])\n",
        "            \n",
        "    def forward(self, x):\n",
        "        mu_z, var_z, z = self.encode(x)\n",
        "        mu_x, var_x = self.decode(z)\n",
        "        return mu_z, var_z, mu_x, var_x"
      ],
      "execution_count": 0,
      "outputs": []
    },
    {
      "cell_type": "code",
      "metadata": {
        "id": "-96E4Q2ILfhH",
        "colab_type": "code",
        "colab": {}
      },
      "source": [
        "X_train, X_val = read_data()"
      ],
      "execution_count": 0,
      "outputs": []
    },
    {
      "cell_type": "code",
      "metadata": {
        "id": "KNJ0Y1dpZ70F",
        "colab_type": "code",
        "colab": {}
      },
      "source": [
        "batch_size = 1024"
      ],
      "execution_count": 0,
      "outputs": []
    },
    {
      "cell_type": "code",
      "metadata": {
        "id": "kg6I2jLxaL-s",
        "colab_type": "code",
        "colab": {}
      },
      "source": [
        "train_loader = data.DataLoader(dataset=X_train, batch_size=batch_size, shuffle=True, collate_fn=transform)\n",
        "val_loader = data.DataLoader(dataset=X_val, batch_size=batch_size, shuffle=False, collate_fn=collate_fn)"
      ],
      "execution_count": 0,
      "outputs": []
    },
    {
      "cell_type": "code",
      "metadata": {
        "id": "0D0f2ax4aYsk",
        "colab_type": "code",
        "colab": {}
      },
      "source": [
        "epochs = 5"
      ],
      "execution_count": 0,
      "outputs": []
    },
    {
      "cell_type": "code",
      "metadata": {
        "id": "kVn5q9UHRfXx",
        "colab_type": "code",
        "colab": {}
      },
      "source": [
        "model = VAE().to(device)\n",
        "optimizer = optim.Adam(model.parameters(), lr=2e-4)"
      ],
      "execution_count": 0,
      "outputs": []
    },
    {
      "cell_type": "code",
      "metadata": {
        "id": "nOn91dYvLfox",
        "colab_type": "code",
        "colab": {}
      },
      "source": [
        "def train():\n",
        "    KLD_t, losses_t, var_t, KLD_v, losses_v, var_v = [], [], [], [], [], []\n",
        "\n",
        "    for i in trange(epochs):\n",
        "        it_var, it_KLD, it_loss = [], [], []\n",
        "        model.train()\n",
        "        for x in train_loader:\n",
        "            x = x.to(device)\n",
        "            optimizer.zero_grad()\n",
        "            mu_z, var_z, mu_x, var_x = model(x)\n",
        "            mll, KL = MLLLoss(mu_x, var_x, x), KLDiv(mu_z, var_z)\n",
        "            total_loss = mll + KL\n",
        "\n",
        "            it_var.append(mll.item())\n",
        "            it_KLD.append(KL.item())\n",
        "            it_loss.append(total_loss.item())\n",
        "\n",
        "            total_loss.backward()\n",
        "            optimizer.step()\n",
        "\n",
        "        var_t.append(np.array(it_var).mean())\n",
        "        KLD_t.append(np.array(it_KLD).mean())\n",
        "        losses_t.append(np.array(it_loss).mean())\n",
        "        it_var, it_KLD, it_loss = [], [], []\n",
        "\n",
        "        model.eval()\n",
        "        with torch.no_grad():\n",
        "            for x in val_loader:\n",
        "                x = x.to(device)\n",
        "                mu_z, var_z, mu_x, var_x = model(x)\n",
        "                mll, KL = MLLLoss(mu_x, var_x, x), KLDiv(mu_z, var_z)\n",
        "                total_loss = mll + KL\n",
        "\n",
        "                it_var.append(mll.item())\n",
        "                it_KLD.append(KL.item())\n",
        "                it_loss.append(total_loss.item())\n",
        "\n",
        "        var_v.append(np.array(it_var).mean())\n",
        "        KLD_v.append(np.array(it_KLD).mean())\n",
        "        losses_v.append(np.array(it_loss).mean())\n",
        "\n",
        "    return var_t, var_v, KLD_t, KLD_v, losses_t, losses_v"
      ],
      "execution_count": 0,
      "outputs": []
    },
    {
      "cell_type": "code",
      "metadata": {
        "id": "HuIsGVnfPRIB",
        "colab_type": "code",
        "colab": {
          "base_uri": "https://localhost:8080/",
          "height": 49,
          "referenced_widgets": [
            "dad9e5adc8824c448ac5353f37488d84",
            "0e219ddeda08442baba2150a33094847",
            "42938c584d3c46c095e99bd6fec40959",
            "dec9a7c7733d4a8fb4870204ccb05ab9",
            "012b1445d89d4020b732fddb591985b1",
            "076b5f30bc42402db0399b2e6cc77358",
            "ef157278a06b4ff5ba7ec5c54dfe346f",
            "6a1bf05a9972425f8240470f55d9a476"
          ]
        },
        "outputId": "b21f5328-a987-4ddf-d09b-1e164a7c78e9"
      },
      "source": [
        "var_t, var_v, KLD_t, KLD_v, losses_t, losses_v = train()"
      ],
      "execution_count": 109,
      "outputs": [
        {
          "output_type": "display_data",
          "data": {
            "application/vnd.jupyter.widget-view+json": {
              "model_id": "dad9e5adc8824c448ac5353f37488d84",
              "version_minor": 0,
              "version_major": 2
            },
            "text/plain": [
              "HBox(children=(IntProgress(value=0, max=5), HTML(value='')))"
            ]
          },
          "metadata": {
            "tags": []
          }
        }
      ]
    },
    {
      "cell_type": "code",
      "metadata": {
        "id": "zQpu0HPQPKQC",
        "colab_type": "code",
        "colab": {
          "base_uri": "https://localhost:8080/",
          "height": 295
        },
        "outputId": "d15d845f-5f04-4fd6-df59-851accb818b9"
      },
      "source": [
        "plot_data(epochs, var_t, var_v, \"mll\")"
      ],
      "execution_count": 113,
      "outputs": [
        {
          "output_type": "display_data",
          "data": {
            "image/png": "[encoded data removed]",
            "text/plain": [
              "<Figure size 432x288 with 1 Axes>"
            ]
          },
          "metadata": {
            "tags": []
          }
        }
      ]
    },
    {
      "cell_type": "code",
      "metadata": {
        "id": "2zsbQwYpPiBc",
        "colab_type": "code",
        "colab": {
          "base_uri": "https://localhost:8080/",
          "height": 295
        },
        "outputId": "b6088280-c961-474d-c314-ae1f3c1a06c1"
      },
      "source": [
        "plot_data(epochs, KLD_t, KLD_v, \"KLD\")"
      ],
      "execution_count": 111,
      "outputs": [
        {
          "output_type": "display_data",
          "data": {
            "image/png": "[encoded data removed]",
            "text/plain": [
              "<Figure size 432x288 with 1 Axes>"
            ]
          },
          "metadata": {
            "tags": []
          }
        }
      ]
    },
    {
      "cell_type": "code",
      "metadata": {
        "id": "SdQ2mzv4Ph3t",
        "colab_type": "code",
        "colab": {
          "base_uri": "https://localhost:8080/",
          "height": 295
        },
        "outputId": "dde3fbf3-a973-456b-feed-f485ba6ce0ed"
      },
      "source": [
        "plot_data(epochs, losses_t, losses_v, \"loss\")"
      ],
      "execution_count": 112,
      "outputs": [
        {
          "output_type": "display_data",
          "data": {
            "image/png": "[encoded data removed]",
            "text/plain": [
              "<Figure size 432x288 with 1 Axes>"
            ]
          },
          "metadata": {
            "tags": []
          }
        }
      ]
    },
    {
      "cell_type": "code",
      "metadata": {
        "id": "TMqPTOM6Lftu",
        "colab_type": "code",
        "colab": {}
      },
      "source": [
        ""
      ],
      "execution_count": 0,
      "outputs": []
    },
    {
      "cell_type": "code",
      "metadata": {
        "id": "OieUpUI3LfwU",
        "colab_type": "code",
        "colab": {}
      },
      "source": [
        ""
      ],
      "execution_count": 0,
      "outputs": []
    },
    {
      "cell_type": "code",
      "metadata": {
        "id": "tYofYYJWLfy6",
        "colab_type": "code",
        "colab": {}
      },
      "source": [
        ""
      ],
      "execution_count": 0,
      "outputs": []
    },
    {
      "cell_type": "code",
      "metadata": {
        "id": "_RNLNxYRLf1C",
        "colab_type": "code",
        "colab": {}
      },
      "source": [
        ""
      ],
      "execution_count": 0,
      "outputs": []
    }
  ]
}